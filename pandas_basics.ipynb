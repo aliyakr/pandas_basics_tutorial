{
 "cells": [
  {
   "cell_type": "markdown",
   "id": "91e873e6-cc0d-428c-b492-d53202611349",
   "metadata": {},
   "source": [
    "<h1 id=\"data_acquisition\">Получение данных</h1> <p> Существуют различные форматы для набора данных: .csv, .json, .xlsx и т.д. Набор данных может храниться в разных местах, на вашем локальном компьютере или иногда в сети.<br>\n",
    "В этом разделе вы узнаете, как загрузить набор данных в наш Jupyter Notebook.<br>\n",
    "\n",
    "В нашем случае, набор данных \"Автомобили\" находится в интернете и представлен в формате CSV (значения, разделённые запятыми). Давайте использовать этот набор данных как пример для практики чтения данных.\n",
    "\n",
    "<ul> <li>Источник данных: <a href=\"https://archive.ics.uci.edu/ml/machine-learning-databases/autos/imports-85.data?utm_medium=Exinfluencer&utm_source=Exinfluencer&utm_content=000026UJ&utm_term=10006555&utm_id=NA-SkillsNetwork-Channel-SkillsNetworkCoursesIBMDeveloperSkillsNetworkDA0101ENSkillsNetwork20235326-2021-01-01\" target=\"_blank\">https://archive.ics.uci.edu/ml/machine-learning-databases/autos/imports-85.data</a></li> <li>Тип данных: csv</li> </ul> Библиотека Pandas — полезный инструмент, который позволяет нам загружать различные наборы данных в dataframe; платформы Jupyter Notebook имеют встроенную <b>библиотеку Pandas</b>, поэтому нам нужно только импортировать Pandas без установки. </p>"
   ]
  },
  {
   "cell_type": "markdown",
   "id": "040d3a40-4fcd-4132-bacd-f52968d43ca8",
   "metadata": {},
   "source": [
    "- symboling — рейтинг символа страхования (int64)\n",
    "- normalized-losses — нормализованные потери (int32)\n",
    "- make — марка автомобиля (object)\n",
    "- fuel-type — тип топлива (object)\n",
    "- aspiration — тип нагнетания (object)\n",
    "- num-of-doors — количество дверей (object)\n",
    "- body-style — тип кузова (object)\n",
    "- drive-wheels — привод (object)\n",
    "- engine-location — расположение двигателя (object)\n",
    "- wheel-base — колесная база (float64)\n",
    "- length — длина (float64)\n",
    "- width — ширина (float64)\n",
    "- height — высота (float64)\n",
    "- curb-weight — снаряжённая масса (int64)\n",
    "- engine-type — тип двигателя (object)\n",
    "- num-of-cylinders — количество цилиндров (object)\n",
    "- engine-size — объём двигателя (int64)\n",
    "- fuel-system — топливная система (object)\n",
    "- bore — диаметр цилиндра (float64)\n",
    "- stroke — ход поршня (float64)\n",
    "- compression-ratio — степень сжатия (float64)\n",
    "- horsepower — мощность (л.с.) (float64)\n",
    "- peak-rpm — максимальные обороты в минуту (float64)\n",
    "- city-mpg — расход топлива в городе (миль на галлон) (int64)\n",
    "- highway-mpg — расход топлива на шоссе (миль на галлон) (int64)"
   ]
  },
  {
   "cell_type": "code",
   "execution_count": 3,
   "id": "94d4223c-3169-460d-ad60-72902debae19",
   "metadata": {},
   "outputs": [],
   "source": [
    "# Установить библиотеки можно используя встроенную библиотеку piplite\n",
    "# import piplite\n",
    "# import micropip\n",
    "# await piplite.install(['pandas'])\n",
    "# await piplite.install(['matplotlib'])\n",
    "# await piplite.install(['scipy'])\n",
    "# await piplite.install(['seaborn'])\n",
    "# await micropip.install(['ipywidgets'],keep_going=True)\n",
    "# await micropip.install(['tqdm'],keep_going=True)"
   ]
  },
  {
   "cell_type": "code",
   "execution_count": null,
   "id": "291b75b4-06f6-4a3b-80aa-fe0772ea7ef5",
   "metadata": {},
   "outputs": [],
   "source": [
    "# Также установить библиотеки можно через терминал\n",
    "#pip install pandas==1.3.3  -y\n",
    "#pip install numpy=1.21.2 -y"
   ]
  },
  {
   "cell_type": "code",
   "execution_count": null,
   "id": "31a343ee-2ab7-4245-8bfb-d8834f016cc8",
   "metadata": {},
   "outputs": [],
   "source": [
    "# Импортируем установленные библиотеки, используя команду import\n",
    "import pandas as pd\n",
    "import numpy as np"
   ]
  },
  {
   "cell_type": "markdown",
   "id": "8c8ddb37-3235-4056-8794-849a9c37abcb",
   "metadata": {},
   "source": [
    "Для чтения данных в формат dataframe используем метод <b>read_csv()</b>"
   ]
  },
  {
   "cell_type": "code",
   "execution_count": null,
   "id": "b819edf3-7579-4370-8dbb-546eb62f8591",
   "metadata": {},
   "outputs": [],
   "source": [
    "path = \"./data/auto.csv\"\n",
    "df = pd.read_csv(path, header=None)"
   ]
  },
  {
   "cell_type": "markdown",
   "id": "3fb034c6-2186-42c7-878e-2ea320c6ffb9",
   "metadata": {},
   "source": [
    "Датафреймы можно не только считывать, но и схоранять в любые форматы."
   ]
  },
  {
   "cell_type": "code",
   "execution_count": null,
   "id": "c84055e8-39c5-4982-841d-6d3030d67d78",
   "metadata": {},
   "outputs": [],
   "source": [
    "df.to_csv(\"./data/automobile.csv\", index=False)"
   ]
  },
  {
   "cell_type": "markdown",
   "id": "22ab792e-1513-4524-a588-ec4cd805dbf4",
   "metadata": {},
   "source": [
    "<h2>Чтение/Сохранение в другие форматы</h2>\n",
    "\n",
    "| Data Formate |        Read       |            Save |\n",
    "| ------------ | :---------------: | --------------: |\n",
    "| csv          |  `pd.read_csv()`  |   `df.to_csv()` |\n",
    "| json         |  `pd.read_json()` |  `df.to_json()` |\n",
    "| excel        | `pd.read_excel()` | `df.to_excel()` |\n",
    "| hdf          |  `pd.read_hdf()`  |   `df.to_hdf()` |\n",
    "| sql          |  `pd.read_sql()`  |   `df.to_sql()` |\n",
    "| ...          |        ...        |             ... |"
   ]
  },
  {
   "cell_type": "markdown",
   "id": "112ff243-2f11-44be-8fbd-061b46c0c561",
   "metadata": {},
   "source": [
    "Для отображения данных используются несколько методов. "
   ]
  },
  {
   "cell_type": "markdown",
   "id": "53b20199-9543-4b09-9409-bb5b521c0824",
   "metadata": {},
   "source": [
    "# Методы для отображения DataFrame в Pandas\n",
    "\n",
    "1. **`df.head()`** — отображает первые несколько строк (по умолчанию 5).  \n",
    "   Пример:  "
   ]
  },
  {
   "cell_type": "code",
   "execution_count": null,
   "id": "51a2085e-1ed8-4169-b24a-7b32cad98451",
   "metadata": {},
   "outputs": [],
   "source": [
    "df.head(10)  # отобразит первые 10 строк"
   ]
  },
  {
   "cell_type": "markdown",
   "id": "b4b8ba0e-57f5-4597-b4f7-1702cca5be94",
   "metadata": {},
   "source": [
    "2. **`df.tail()`** — отображает последние несколько строк (по умолчанию 5).  \n",
    "   Пример:  "
   ]
  },
  {
   "cell_type": "code",
   "execution_count": null,
   "id": "58cc0dc7-597f-46f1-8985-799718971b07",
   "metadata": {},
   "outputs": [],
   "source": [
    "df.tail(10)  # отобразит последние 10 строк"
   ]
  },
  {
   "cell_type": "markdown",
   "id": "275b3a4c-94b6-4073-905f-ea006c965ad3",
   "metadata": {},
   "source": [
    "3. **`df.info()`** — предоставляет информацию о DataFrame: количество строк и столбцов, типы данных, количество ненулевых значений и использование памяти.  \n",
    "   Пример:"
   ]
  },
  {
   "cell_type": "code",
   "execution_count": null,
   "id": "021da402-b2f5-4eb2-82dd-a4e50742e301",
   "metadata": {},
   "outputs": [],
   "source": [
    "df.info()"
   ]
  },
  {
   "cell_type": "markdown",
   "id": "8477e659-e4e8-4857-a4d4-02bbbfe34f77",
   "metadata": {},
   "source": [
    "4. **`df.describe()`** — отображает статистическое резюме для числовых данных в DataFrame.\n",
    "   <br>Пример:"
   ]
  },
  {
   "cell_type": "code",
   "execution_count": null,
   "id": "cc8c5ceb-cbc7-460b-b3b7-9e013f0c5007",
   "metadata": {},
   "outputs": [],
   "source": [
    "df.describe()"
   ]
  },
  {
   "cell_type": "markdown",
   "id": "a6bdd062-9f94-4c39-a503-69b52a9d4ce9",
   "metadata": {},
   "source": [
    "5. **`df.shape()`** — овозвращает кортеж с количеством строк и столбцов DataFrame.\n",
    "   <br>Пример:"
   ]
  },
  {
   "cell_type": "code",
   "execution_count": null,
   "id": "54146fdc-0a77-464d-aca1-6b983392da49",
   "metadata": {},
   "outputs": [],
   "source": [
    "df.shape"
   ]
  },
  {
   "cell_type": "markdown",
   "id": "e3c80e6a-f1e8-402d-a0c6-4a2aa6ba7243",
   "metadata": {},
   "source": [
    "6. **`df.sample()`** — возвращает 5 случайных строк из таблицы.\n",
    "   <br>Пример:"
   ]
  },
  {
   "cell_type": "code",
   "execution_count": null,
   "id": "97fcaef2-6f7e-4aba-88e6-4cab7366f970",
   "metadata": {},
   "outputs": [],
   "source": [
    "df.sample(5)"
   ]
  },
  {
   "cell_type": "markdown",
   "id": "6dc00c85-ff7b-4244-9c13-d35b4703619b",
   "metadata": {},
   "source": [
    "7. **`df.style()`** — позволяет стилизовать DataFrame для более удобного отображения.\n",
    "   <br>Примеры:"
   ]
  },
  {
   "cell_type": "code",
   "execution_count": null,
   "id": "748df1c5-4a14-4e3d-bb39-c8fe240daf7e",
   "metadata": {},
   "outputs": [],
   "source": [
    "df.style.highlight_max() # выделяет максимальные значения в каждом столбце"
   ]
  },
  {
   "cell_type": "code",
   "execution_count": null,
   "id": "0611ca33-90f7-4557-a163-cee69869cbd1",
   "metadata": {},
   "outputs": [],
   "source": [
    "df.style.highlight_min() # выделяет минимальные значения в каждом столбце"
   ]
  },
  {
   "cell_type": "code",
   "execution_count": null,
   "id": "8d2c5f38-cd6b-4cf5-ab15-634aaca75a98",
   "metadata": {},
   "outputs": [],
   "source": [
    "df.style.highlight_null(null_color='red') # выделяет NaN или пропущенные значения"
   ]
  },
  {
   "cell_type": "code",
   "execution_count": null,
   "id": "1bd013dc-2acf-4ecc-b7b6-cd924885a910",
   "metadata": {},
   "outputs": [],
   "source": [
    "df.style.background_gradient(cmap='viridis') # добавляет цветовой градиент к значениям"
   ]
  },
  {
   "cell_type": "code",
   "execution_count": null,
   "id": "0d34747d-892f-41ff-8a9d-caf6d8ffdcff",
   "metadata": {},
   "outputs": [],
   "source": [
    "pd.set_option('display.float_format', lambda x: '%.2f' % x) # позволяет настроить формат отображения данных, например, задать количество знаков после запятой\n",
    "display(df)"
   ]
  },
  {
   "cell_type": "markdown",
   "id": "7248781b-1b4e-4b59-88a2-b46cc0b136b2",
   "metadata": {},
   "source": [
    "**`apply()`** - позволяет применить пользовательскую функцию для стилизации"
   ]
  },
  {
   "cell_type": "code",
   "execution_count": null,
   "id": "4b1ba8eb-1ffa-41be-b0a7-31d44e6e9fec",
   "metadata": {},
   "outputs": [],
   "source": [
    "def highlight_greater_than(val):\n",
    "    color = 'green' if val > 0 else 'red'\n",
    "    return f'background-color: {color}'\n",
    "\n",
    "df.style.applymap(highlight_greater_than)"
   ]
  },
  {
   "cell_type": "code",
   "execution_count": null,
   "id": "3c5d1dbc-8604-4249-870e-7da1e6cbae36",
   "metadata": {},
   "outputs": [],
   "source": [
    "df.style.applymap(lambda x: 'color: green' if x > 0 else 'color: red')"
   ]
  },
  {
   "cell_type": "code",
   "execution_count": null,
   "id": "385c12bc-854a-443c-a0d5-302e11f3fddf",
   "metadata": {},
   "outputs": [],
   "source": [
    "df.style.set_properties(**{'background-color': 'black', 'color': 'white'}) # позволяет задать CSS-свойства для элементов DataFrame"
   ]
  },
  {
   "cell_type": "code",
   "execution_count": null,
   "id": "9e1ffd70-2fa4-4f4c-96df-86b2987a0abf",
   "metadata": {},
   "outputs": [],
   "source": [
    "df.style.hide() # скрывает индексы при выводе таблицы"
   ]
  },
  {
   "cell_type": "markdown",
   "id": "97aa0c79-3591-465a-8cab-9934270958d2",
   "metadata": {},
   "source": [
    "8. **`df.to_html()`** — преобразует DataFrame в формат HTML для отображения в веб-браузере.\n",
    "   <br>Пример:"
   ]
  },
  {
   "cell_type": "code",
   "execution_count": null,
   "id": "237ff131-993e-4ec4-879c-cc2c0e6f25db",
   "metadata": {},
   "outputs": [],
   "source": [
    "df.to_html()"
   ]
  },
  {
   "cell_type": "markdown",
   "id": "a2b46acb-2ec7-4769-8262-32e37f57dac9",
   "metadata": {},
   "source": [
    "9. **`display()`** — отображает DataFrame в удобном табличном виде в Jupyter Notebook.\n",
    "   <br>Пример:"
   ]
  },
  {
   "cell_type": "code",
   "execution_count": null,
   "id": "66c26df9-c989-4045-bdbb-8b690cb50b97",
   "metadata": {},
   "outputs": [],
   "source": [
    "display(df)"
   ]
  },
  {
   "cell_type": "markdown",
   "id": "c94c3927-1adf-4aa4-be4b-ab895c28e123",
   "metadata": {},
   "source": [
    "<div class=\"alert alert-danger alertdanger\" style=\"margin-top: 20px\">\n",
    "<h1> Задание #1: </h1>\n",
    "<b>Отобразите последние 7 строк таблицы \"df\".</b> <br>\n",
    "<b>Используйте методы info() и describe() для того, чтобы получить первичные знания о данных.</b>\n",
    "</div>"
   ]
  },
  {
   "cell_type": "code",
   "execution_count": null,
   "id": "53a26bcc-8f42-4c74-b5e3-5ed60775a590",
   "metadata": {},
   "outputs": [],
   "source": [
    "# Напишите ваш код ниже и наждмите Shift+Enter для исполнения\n"
   ]
  },
  {
   "cell_type": "markdown",
   "id": "4a49a6b0-048e-4144-b167-82b574187ae6",
   "metadata": {},
   "source": [
    "<details><summary>Нажмите здесь, чтобы увидеть решение</summary>\n",
    "\n",
    "```python\n",
    "print(\"Последние 7 строк таблицы\\n\")\n",
    "df.tail(10)\n",
    "print(\"Общая информация о данных\\n\")\n",
    "df.info()\n",
    "print(\"Статистическая информация о данных\\n\")\n",
    "df.describe(include='all')\n",
    "```"
   ]
  },
  {
   "cell_type": "markdown",
   "id": "e8cebed0-f7cd-4017-9b66-ad4a8b47e729",
   "metadata": {},
   "source": [
    "<h3>Добавление заголовков</h3> <p> Взгляните на наш набор данных. Pandas автоматически установил заголовок с числами, начиная с 0. </p> <p> Чтобы лучше описать наши данные, мы можем ввести заголовок. Эта информация доступна по адресу: <a href=\"https://archive.ics.uci.edu/ml/datasets/Automobile?utm_medium=Exinfluencer&utm_source=Exinfluencer&utm_content=000026UJ&utm_term=10006555&utm_id=NA-SkillsNetwork-Channel-SkillsNetworkCoursesIBMDeveloperSkillsNetworkDA0101ENSkillsNetwork20235326-2021-01-01\" target=\"_blank\">https://archive.ics.uci.edu/ml/datasets/Automobile</a>. </p> <p> Таким образом, мы должны добавить заголовки вручную. </p> <p> Сначала мы создаем список \"headers\", который включает все названия столбцов в нужном порядке. Затем мы используем <code>dataframe.columns = headers</code>, чтобы заменить заголовки на созданный нами список. </p>"
   ]
  },
  {
   "cell_type": "code",
   "execution_count": null,
   "id": "964c0d5d-7809-4733-a646-273b9a6a1f21",
   "metadata": {},
   "outputs": [],
   "source": [
    "# создаем лист заголовков\n",
    "headers = [\"symboling\",\"normalized-losses\",\"make\",\"fuel-type\",\"aspiration\", \"num-of-doors\",\"body-style\",\n",
    "         \"drive-wheels\",\"engine-location\",\"wheel-base\", \"length\",\"width\",\"height\",\"curb-weight\",\"engine-type\",\n",
    "         \"num-of-cylinders\", \"engine-size\",\"fuel-system\",\"bore\",\"stroke\",\"compression-ratio\",\"horsepower\",\n",
    "         \"peak-rpm\",\"city-mpg\",\"highway-mpg\",\"price\"]\n",
    "print(\"headers\\n\", headers)"
   ]
  },
  {
   "cell_type": "markdown",
   "id": "8549a1d4-2797-4184-be9b-b0e77ccede87",
   "metadata": {},
   "source": [
    "Изменим заголовки и заново выведем нашу таблицу"
   ]
  },
  {
   "cell_type": "code",
   "execution_count": null,
   "id": "bee8191b-3c18-4d95-9a22-1a5e095b5e07",
   "metadata": {},
   "outputs": [],
   "source": [
    "df.columns = headers\n",
    "df.head(10)"
   ]
  },
  {
   "cell_type": "markdown",
   "id": "2789bdf5-dfcc-443f-aeeb-92f08a24bd22",
   "metadata": {},
   "source": [
    "## Очистка данных\n",
    "В Pandas и других инструментах для работы с данными существует несколько методов для очистки данных. Очистка данных — важный этап в обработке и анализе, так как она помогает избавиться от ошибок, пропущенных значений, дубликатов и неправильных данных. Вот основные методы:"
   ]
  },
  {
   "cell_type": "markdown",
   "id": "d9bacbe7-64df-42ca-bad4-25d90bd62572",
   "metadata": {},
   "source": [
    "### Работа с пропущенными значениями"
   ]
  },
  {
   "cell_type": "markdown",
   "id": "85e3b32f-30f3-4def-8da6-dd7e06fcc749",
   "metadata": {},
   "source": [
    "<b>1. Удаление пропущенных значений</b><br>\n",
    "**`dropna()`** — удаляет строки или столбцы с пропущенными значениями.\n",
    "   <br>Пример:"
   ]
  },
  {
   "cell_type": "code",
   "execution_count": null,
   "id": "cf1b305f-d721-4529-8c3a-73105e277a2a",
   "metadata": {},
   "outputs": [],
   "source": [
    "df.dropna(subset=['column_name']) # удаляет строки, где в указанном столбце есть пропущенные значения"
   ]
  },
  {
   "cell_type": "markdown",
   "id": "38aa5128-8dfc-4ab1-ae3a-2a1c33a1d5e3",
   "metadata": {},
   "source": [
    "<b>2. Замена пропущенных значений</b><br>\n",
    "**`fillna()`** — заполняет пропущенные значения указанным значением (например, средним, медианным, или другим фиксированным значением).\n",
    "   <br>Пример:"
   ]
  },
  {
   "cell_type": "code",
   "execution_count": null,
   "id": "08f2d97b-8ca2-473f-89e8-962ae34b2121",
   "metadata": {},
   "outputs": [],
   "source": [
    "df.fillna(df.mean()) # заполняет пропущенные значения средними по столбцам"
   ]
  },
  {
   "cell_type": "markdown",
   "id": "0d08c61e-17d9-406c-a30b-e6199c74cfbc",
   "metadata": {},
   "source": [
    "<b>3. Обнаружение пропущенных значений</b><br>\n",
    "**`isna()`** — возвращает DataFrame, который показывает, где в исходном DataFrame находятся пропущенные значения (True/False).\n",
    "   <br>Пример:"
   ]
  },
  {
   "cell_type": "code",
   "execution_count": null,
   "id": "54641678-6c1a-48a1-9b1b-4c7cd66179e9",
   "metadata": {},
   "outputs": [],
   "source": [
    "df.isna().sum() # подсчитывает количество пропущенных значений в каждом столбце"
   ]
  },
  {
   "cell_type": "markdown",
   "id": "76fa9cef-d4b0-4176-aea7-45c6c2c08a37",
   "metadata": {},
   "source": [
    "### Работа с дубликатами"
   ]
  },
  {
   "cell_type": "markdown",
   "id": "e5626783-abab-4cdd-b9fe-153b94f73c8c",
   "metadata": {},
   "source": [
    "<b>1. Обнаружение дубликатов</b><br>\n",
    "**`duplicated()`** — возвращает логическое значение для каждой строки (True, если строка дублируется).\n",
    "   <br>Пример:"
   ]
  },
  {
   "cell_type": "code",
   "execution_count": null,
   "id": "ea2e6463-24b5-425d-948a-83c0139ba423",
   "metadata": {},
   "outputs": [],
   "source": [
    "df[df.duplicated()] # отобразит все дубликаты в DataFrame"
   ]
  },
  {
   "cell_type": "markdown",
   "id": "cc082b41-e8ea-40ec-a0b2-40bd3aa17215",
   "metadata": {},
   "source": [
    "<b>2. Удаление дубликатов</b><br>\n",
    "**`drop_duplicates()`** — удаляет повторяющиеся строки в DataFrame.\n",
    "   <br>Пример:"
   ]
  },
  {
   "cell_type": "code",
   "execution_count": null,
   "id": "96bf08c9-8840-4b46-8ee7-46ee11c466e3",
   "metadata": {},
   "outputs": [],
   "source": [
    "df.drop_duplicates(subset=['column_name']) # удаляет дубликаты на основе одного или нескольких столбцов"
   ]
  },
  {
   "cell_type": "markdown",
   "id": "4ad95006-ccf8-4f47-a971-d60ef3e08962",
   "metadata": {},
   "source": [
    "### Преобразование данных"
   ]
  },
  {
   "cell_type": "markdown",
   "id": "d30e06bb-ef5f-48fb-a8b6-460233865b07",
   "metadata": {},
   "source": [
    "<b>1. Изменение типов данных</b><br>\n",
    "**`astype()`** — изменяет тип данных столбца.\n",
    "   <br>Пример:"
   ]
  },
  {
   "cell_type": "code",
   "execution_count": null,
   "id": "be182afa-98ac-43bf-b4e8-6a6adc8f5f5b",
   "metadata": {},
   "outputs": [],
   "source": [
    "df['column_name'] = df['column_name'].astype('int') # преобразует столбец в целочисленный тип"
   ]
  },
  {
   "cell_type": "markdown",
   "id": "74335d9c-05e2-4b54-b580-dfe292cbf99f",
   "metadata": {},
   "source": [
    "<b>2. Удаление ненужных пробелов</b><br>\n",
    "**`strip()`** — удаляет пробелы в начале и в конце строковых значений.\n",
    "   <br>Пример:"
   ]
  },
  {
   "cell_type": "code",
   "execution_count": null,
   "id": "791a5c6b-16dd-49c1-83fa-11c572010eef",
   "metadata": {},
   "outputs": [],
   "source": [
    "df['column_name'] = df['column_name'].str.strip()"
   ]
  },
  {
   "cell_type": "markdown",
   "id": "fdead015-20c9-465c-ba53-9c2ba21ca784",
   "metadata": {},
   "source": [
    "<b>3. Изменение регистра строк</b><br>\n",
    "**`lower()`**, **`upper()`** — преобразует строковые значения в нижний или верхний регистр.\n",
    "   <br>Пример:"
   ]
  },
  {
   "cell_type": "code",
   "execution_count": null,
   "id": "26fe9797-1f3d-48a5-8df4-be3e998ba101",
   "metadata": {},
   "outputs": [],
   "source": [
    "df['column_name'] = df['column_name'].str.lower()"
   ]
  },
  {
   "cell_type": "markdown",
   "id": "28d75ba0-3803-4e4d-a096-c152774ce3fe",
   "metadata": {},
   "source": [
    "<b>4. Преобразование форматов дат</b><br>\n",
    "**`to_datetime()`** — преобразует строковые данные в формат даты.\n",
    "   <br>Пример:"
   ]
  },
  {
   "cell_type": "code",
   "execution_count": null,
   "id": "72174e90-b494-4304-ba32-ccfe776417d0",
   "metadata": {},
   "outputs": [],
   "source": [
    "df['date_column'] = pd.to_datetime(df['date_column'])"
   ]
  },
  {
   "cell_type": "markdown",
   "id": "aa537a36-8a2d-446d-a22e-1a9b465eb471",
   "metadata": {},
   "source": [
    "<b>5. Преобразование категориальных данных</b><br>\n",
    "**`get_dummies()`** — преобразует категориальные данные в бинарные переменные (one-hot encoding)\n",
    "   <br>Пример:"
   ]
  },
  {
   "cell_type": "code",
   "execution_count": null,
   "id": "1cf9c4d7-475a-43a2-8538-5f16c14ea4a8",
   "metadata": {},
   "outputs": [],
   "source": [
    "pd.get_dummies(df['column_name'])"
   ]
  },
  {
   "cell_type": "markdown",
   "id": "577ad1c8-dd35-468f-bc2f-2654f19f2a1c",
   "metadata": {},
   "source": [
    "### Работа с несоответсвующими или некорректными значениями"
   ]
  },
  {
   "cell_type": "markdown",
   "id": "8763f039-c4ca-4b38-b5e9-5e85f5f314f9",
   "metadata": {},
   "source": [
    "<b>1. Замена неправильных значений</b><br>\n",
    "**`replace(to_replace, value)`** — заменяет указанные значения на другие.\n",
    "   <br>Пример:"
   ]
  },
  {
   "cell_type": "code",
   "execution_count": null,
   "id": "09b26fa2-deb1-4836-81e6-828016261590",
   "metadata": {},
   "outputs": [],
   "source": [
    "df['column_name'].replace(-999, np.nan) # заменяет все значения -999 на NaN (пропущенные значения)"
   ]
  },
  {
   "cell_type": "markdown",
   "id": "99e3a275-4dec-42a6-930f-ae2435a02831",
   "metadata": {},
   "source": [
    "<b>2. Фильтрация данных</b><br>\n",
    "Фильтрация данных в Pandas позволяет выбирать только те строки, которые удовлетворяют определённым условиям. Это можно делать с помощью логических выражений и лямбда-функций для выполнения более сложных операций."
   ]
  },
  {
   "cell_type": "markdown",
   "id": "f494af8a-7cc8-4138-89a3-16b7d0d2e5d8",
   "metadata": {},
   "source": [
    "**`filter()`** - используется, когда нужно оставить только определенные строки или группы на основе условия. Это полезно для удаления ненужных данных."
   ]
  },
  {
   "cell_type": "markdown",
   "id": "915f89eb-3928-4b42-8a5e-4869c754deb6",
   "metadata": {},
   "source": [
    "**`apply()`** - используется, когда нужно выполнить вычисления или трансформации для каждой строки, столбца или группы. Это более мощный и гибкий метод для работы с данными."
   ]
  },
  {
   "cell_type": "markdown",
   "id": "a93f1678-063a-4500-b9c2-ab664c898baf",
   "metadata": {},
   "source": [
    "Фильтрация по одному условию:"
   ]
  },
  {
   "cell_type": "code",
   "execution_count": null,
   "id": "95c46cec-5f3b-462c-8fb7-a9f7e29b3b8f",
   "metadata": {},
   "outputs": [],
   "source": [
    "# отбор строк, где значения в столбце column_name больше 0\n",
    "df_filtered = df[df['column_name'] > 0]"
   ]
  },
  {
   "cell_type": "code",
   "execution_count": null,
   "id": "75b62a10-b2bd-4d8f-90a4-1c8b400bb56f",
   "metadata": {},
   "outputs": [],
   "source": [
    "# выбор столбцов по их имени\n",
    "df_filtered = df.filter(items=['column1', 'column2'])\n",
    "# другой способ использования — фильтрация столбцов по шаблону\n",
    "df_filtered = df.filter(like='name')"
   ]
  },
  {
   "cell_type": "markdown",
   "id": "7ce1a290-186a-4d32-b66f-25b8e700c097",
   "metadata": {},
   "source": [
    "Фильтрация по нескольким условиям:"
   ]
  },
  {
   "cell_type": "code",
   "execution_count": null,
   "id": "7c5913c4-029b-454a-966b-d2f8f18fd519",
   "metadata": {},
   "outputs": [],
   "source": [
    "# отбор строк, где значения в столбце column_name1 больше 10 и значения в столбце column_name2 равны 'value'\n",
    "df_filtered = df[(df['column_name1'] > 10) & (df['column_name2'] == 'value')]"
   ]
  },
  {
   "cell_type": "markdown",
   "id": "2cab81bf-99d2-448b-8999-7d2f5f810aab",
   "metadata": {},
   "source": [
    "Фильтрация по списку значений:"
   ]
  },
  {
   "cell_type": "code",
   "execution_count": null,
   "id": "700c3417-93b6-4198-9486-276c5e324981",
   "metadata": {},
   "outputs": [],
   "source": [
    "# отбор строк, где значения в столбце column_name принадлежат списку допустимых значений\n",
    "df_filtered = df[df['column_name'].isin(['value1', 'value2', 'value3'])]"
   ]
  },
  {
   "cell_type": "markdown",
   "id": "7d57d1c4-cec6-4a43-b653-bcd652e5d872",
   "metadata": {},
   "source": [
    "Фильтрация строк, содержащих подстроку:"
   ]
  },
  {
   "cell_type": "code",
   "execution_count": null,
   "id": "21a6ec78-9870-4157-9f28-d09cd8725863",
   "metadata": {},
   "outputs": [],
   "source": [
    "# отбор строк, где значение в столбце column_name содержит подстроку 'substring'\n",
    "df_filtered = df[df['column_name'].str.contains('substring')]"
   ]
  },
  {
   "cell_type": "markdown",
   "id": "0c81c0ea-73c4-4488-9b4e-87048634a527",
   "metadata": {},
   "source": [
    "Фильтрация по длине строки:"
   ]
  },
  {
   "cell_type": "code",
   "execution_count": null,
   "id": "bdea0f77-4623-4023-a8aa-4dc586ca674c",
   "metadata": {},
   "outputs": [],
   "source": [
    "# отбор строк, где длина значения в столбце column_name больше 5 символов:\n",
    "df_filtered = df[df['column_name'].str.len() > 5]"
   ]
  },
  {
   "cell_type": "markdown",
   "id": "f75b0d1d-d4bc-4127-b091-c0ecce7bac55",
   "metadata": {},
   "source": [
    "<b>Лямбда-функции в Pandas</b> используются для выполнения сложных операций над строками или столбцами DataFrame."
   ]
  },
  {
   "cell_type": "code",
   "execution_count": null,
   "id": "0d22eedd-9365-4867-aabb-d83a85a727e8",
   "metadata": {},
   "outputs": [],
   "source": [
    "# отбор строк, где значение в столбце column_name больше 10 с использованием лямбда-функции\n",
    "df_filtered = df[df['column_name'].apply(lambda x: x > 10)]"
   ]
  },
  {
   "cell_type": "markdown",
   "id": "9b506e35-1dd2-4991-9258-dd39f387f031",
   "metadata": {},
   "source": [
    "В данном случае лямбда-функция проверяет каждое значение в столбце column_name, и только строки, где значение больше 10, остаются."
   ]
  },
  {
   "cell_type": "markdown",
   "id": "eb293927-a4bc-46a0-bf7d-7681d862ff11",
   "metadata": {},
   "source": [
    "Пример с несколькими условиями внутри лямбда-функции"
   ]
  },
  {
   "cell_type": "code",
   "execution_count": null,
   "id": "19c9e7b3-0116-4b4d-8b09-915b25cf665f",
   "metadata": {},
   "outputs": [],
   "source": [
    "# отбор строк, где значения в двух столбцах (column_name1 и column_name2) удовлетворяют условию (значение в column_name1 больше 10, а в column_name2 меньше 5)\n",
    "df_filtered = df[df.apply(lambda row: row['column_name1'] > 10 and row['column_name2'] < 5, axis=1)]"
   ]
  },
  {
   "cell_type": "markdown",
   "id": "ff36f9c0-36cf-4bdd-97e4-5f734bdd1e33",
   "metadata": {},
   "source": [
    "Здесь apply() используется с параметром axis=1, чтобы применить лямбда-функцию ко всей строке DataFrame. Лямбда-функция возвращает True только для тех строк, где оба условия выполняются."
   ]
  },
  {
   "cell_type": "markdown",
   "id": "bfadd661-b6af-4c40-9b01-5743a8ef69da",
   "metadata": {},
   "source": [
    "Лямбда-функции для обработки строк"
   ]
  },
  {
   "cell_type": "code",
   "execution_count": null,
   "id": "9af69c9e-20ef-4b2d-9cdc-61e869f91a59",
   "metadata": {},
   "outputs": [],
   "source": [
    "# отбор строк, где значение в столбце column_name начинается с подстроки 'prefix'\n",
    "df_filtered = df[df['column_name'].apply(lambda x: x.startswith('prefix'))]"
   ]
  },
  {
   "cell_type": "markdown",
   "id": "2feb6e71-2042-4a01-883e-d458be08da6c",
   "metadata": {},
   "source": [
    "Еще примеры с использованием лямбда-функций:"
   ]
  },
  {
   "cell_type": "code",
   "execution_count": null,
   "id": "5ef36a05-5b5a-4e55-a8b9-d2223a5cc075",
   "metadata": {},
   "outputs": [],
   "source": [
    "# каждый элемент столбца column_name умножается на 2, и результат сохраняется в новый столбец new_column\n",
    "df['new_column'] = df['column_name'].apply(lambda x: x * 2)"
   ]
  },
  {
   "cell_type": "code",
   "execution_count": null,
   "id": "c3d0758d-b606-4d22-b8b8-6947e6e958e3",
   "metadata": {},
   "outputs": [],
   "source": [
    "# лямбда-функция складывает значения двух столбцов (column_name1 и column_name2) для каждой строки, и результат сохраняется в новый столбец new_column\n",
    "df['new_column'] = df.apply(lambda row: row['column_name1'] + row['column_name2'], axis=1)"
   ]
  },
  {
   "cell_type": "code",
   "execution_count": null,
   "id": "cb923922-ce72-46aa-980d-327b34aef33a",
   "metadata": {},
   "outputs": [],
   "source": [
    "# для каждой строки проверяется значение в столбце score. Если значение больше 80, то в новый столбец status записывается \"High\", в противном случае — \"Low\"\n",
    "df['status'] = df.apply(lambda row: 'High' if row['score'] > 80 else 'Low', axis=1)"
   ]
  },
  {
   "cell_type": "code",
   "execution_count": null,
   "id": "591e4183-5cf8-4883-9cff-41b93a0b5b8c",
   "metadata": {},
   "outputs": [],
   "source": [
    "# фильтрация групп, где количество строк в группе > 10\n",
    "df_filtered = df.groupby('column_name').filter(lambda x: len(x) > 10)"
   ]
  },
  {
   "cell_type": "markdown",
   "id": "1dff1d2c-f842-4f99-8081-ffb05b19a95d",
   "metadata": {},
   "source": [
    "### Удаление ненужных столбцов или строк"
   ]
  },
  {
   "cell_type": "markdown",
   "id": "d9811d65-74ad-4fa0-84c0-acf7a0285ce5",
   "metadata": {},
   "source": [
    "<b>1. Удаление столбцов</b><br>\n",
    "**`drop(columns=['column_name'])`** — удаляет указанные столбцы из DataFrame.\n",
    "   <br>Пример:"
   ]
  },
  {
   "cell_type": "code",
   "execution_count": null,
   "id": "5bc7051e-988f-4a52-b82e-368f95856547",
   "metadata": {},
   "outputs": [],
   "source": [
    "df.drop(columns=['unnecessary_column'], inplace = True)"
   ]
  },
  {
   "cell_type": "markdown",
   "id": "5bb58139-8188-40e6-a33c-9357f2224813",
   "metadata": {},
   "source": [
    "Параметр \"inplace\" указывает на то, нужно ли изменять данные в исходном датасете, или же применить функцию над данными, не изменяя их. "
   ]
  },
  {
   "cell_type": "markdown",
   "id": "af2547a0-ae21-44ef-9b8c-d9bdd2664b89",
   "metadata": {},
   "source": [
    "<b>2. Удаление строк </b><br>\n",
    "**`df.drop(index):`** — удаляет строки по индексу.\n",
    "   <br>Пример:"
   ]
  },
  {
   "cell_type": "code",
   "execution_count": null,
   "id": "dd48193e-38dd-4351-88d3-4a0998ee9bdc",
   "metadata": {},
   "outputs": [],
   "source": [
    "#удалит строки с индексами 0, 1, 2\n",
    "df.drop([0, 1, 2], axis=0)"
   ]
  },
  {
   "cell_type": "code",
   "execution_count": null,
   "id": "ca3d67bd-6d3b-4988-9700-6bc7d15ca497",
   "metadata": {},
   "outputs": [],
   "source": [
    "# удалит строки, соответствующие условию (значения меньше или равно 0)\n",
    "df_cleaned = df.drop(df[df['column_name'] <= 0].index)"
   ]
  },
  {
   "cell_type": "markdown",
   "id": "6f8b79a0-430d-42b7-a8db-6744df6d294e",
   "metadata": {},
   "source": [
    "<div class=\"alert alert-danger alertdanger\" style=\"margin-top: 20px\">\n",
    "<h1> Задание #2: </h1>\n",
    "<b>Замените символ \"?\" на пустые NaN значения, а затем удалите все пустые значения по колонке \"price\".</b>\n",
    "</div>"
   ]
  },
  {
   "cell_type": "code",
   "execution_count": null,
   "id": "adecc24d-5283-4920-afb0-71c1e006240a",
   "metadata": {},
   "outputs": [],
   "source": [
    "# Напишите ваш код ниже и наждмите Shift+Enter для исполнения\n"
   ]
  },
  {
   "cell_type": "markdown",
   "id": "88124b1c-12f1-4115-90c4-d6ce7e1fea75",
   "metadata": {},
   "source": [
    "<details><summary>Нажмите здесь, чтобы увидеть решение</summary>\n",
    "\n",
    "```python\n",
    "print(\"Замена символа '?' на NaN-значение\\n\")\n",
    "df=df.replace('?',np.NaN)\n",
    "print(\"Удаление пустых строк по колонке 'price'\\n\")\n",
    "df=df.dropna(subset=[\"price\"], axis=0)\n",
    "print(\"Вывод таблицы после преобразований\\n\")\n",
    "df.head(20)\n",
    "```"
   ]
  },
  {
   "cell_type": "markdown",
   "id": "30cef2b2-60b3-4958-8e96-30e1d0b2ed1e",
   "metadata": {},
   "source": [
    "Далее, подсчитаем количество пропущенных значений в каждом столбце"
   ]
  },
  {
   "cell_type": "code",
   "execution_count": null,
   "id": "7bdec7a7-ab03-428c-a44a-d34c4c085428",
   "metadata": {},
   "outputs": [],
   "source": [
    "df.isna().sum()"
   ]
  },
  {
   "cell_type": "markdown",
   "id": "cbb3dc1e-1601-45ed-a15b-e889b80d7e0d",
   "metadata": {},
   "source": [
    "### Разберемся с пропущенными значениями\n",
    "\n",
    "Вы должны удалять целые столбцы только в том случае, если большинство записей в столбце пусты. В данном наборе данных ни один из столбцов не содержит столько пропущенных значений, чтобы их полностью удалить. У вас есть свобода выбора метода замены данных; однако некоторые методы могут казаться более разумными, чем другие. Примените каждый метод к разным столбцам:\n",
    "\n",
    "<b>Замена средним значением:</b>\n",
    "\n",
    "<ul> <li>\"normalized-losses\": 41 пропущенное значение, замените их средним значением</li> <li>\"stroke\": 4 пропущенных значения, замените их средним значением</li> <li>\"bore\": 4 пропущенных значения, замените их средним значением</li> <li>\"horsepower\": 2 пропущенных значения, замените их средним значением</li> <li>\"peak-rpm\": 2 пропущенных значения, замените их средним значением</li> </ul>\n",
    "<b>Замена на частое значение:</b>\n",
    "\n",
    "<ul> <li>\"num-of-doors\": 2 пропущенных значения, замените их на \"four\". <ul> <li>Причина: 84% седанов — это автомобили с четырьмя дверями. Так как четыре двери встречаются чаще всего, вероятно, что именно это значение будет наиболее подходящим.</li> </ul> </li> </ul>\n"
   ]
  },
  {
   "cell_type": "markdown",
   "id": "fe906959-ee83-4808-a155-3a5f0b1601b0",
   "metadata": {},
   "source": [
    "<b>Посчитаем среднее значение для колонки \"normalized-losses\"</b>"
   ]
  },
  {
   "cell_type": "code",
   "execution_count": null,
   "id": "c49b5690-9889-43e2-825a-2543e7b5d1bb",
   "metadata": {},
   "outputs": [],
   "source": [
    "avg_norm_loss = df[\"normalized-losses\"].astype(\"float\").mean(axis=0)\n",
    "print(\"Average of normalized-losses:\", avg_norm_loss)"
   ]
  },
  {
   "cell_type": "markdown",
   "id": "098dcde5-548d-434e-ad92-aac1304b7f25",
   "metadata": {},
   "source": [
    "<b>Заменим пустые значения на средние для колонки \"normalized-losses\"</b>"
   ]
  },
  {
   "cell_type": "code",
   "execution_count": null,
   "id": "ae457cb0-8039-41d9-b6f0-816782ee32f4",
   "metadata": {},
   "outputs": [],
   "source": [
    "df[\"normalized-losses\"].replace(np.nan, avg_norm_loss, inplace=True)"
   ]
  },
  {
   "cell_type": "markdown",
   "id": "9600a832-5f34-46bf-9b41-e3a94c6ba298",
   "metadata": {},
   "source": [
    "<div class=\"alert alert-danger alertdanger\" style=\"margin-top: 20px\">\n",
    "<h1> Задание #3: </h1>\n",
    "<b> На примере выше, замените пустые значения в колонке \"stroke\" на среднее значение.</b>\n",
    "</div>"
   ]
  },
  {
   "cell_type": "code",
   "execution_count": null,
   "id": "a289db32-ee3b-44eb-be9f-a18a70ec1e95",
   "metadata": {},
   "outputs": [],
   "source": [
    "# Напишите ваш код ниже и наждмите Shift+Enter для исполнения\n"
   ]
  },
  {
   "cell_type": "markdown",
   "id": "3e74e995-0c76-4cae-9475-d0f97b3ab452",
   "metadata": {},
   "source": [
    "<details><summary>Нажмите здесь, чтобы увидеть решение</summary>\n",
    "\n",
    "```python\n",
    "#Считаем среднее значение для колонки \"stroke\"\n",
    "avg_stroke = df[\"stroke\"].astype(\"float\").mean(axis = 0)\n",
    "print(\"Average of stroke:\", avg_stroke)\n",
    "\n",
    "# Заменяем пустые значения на среднее по колонке\n",
    "df[\"stroke\"].replace(np.nan, avg_stroke, inplace = True)\n",
    "```"
   ]
  },
  {
   "cell_type": "markdown",
   "id": "81ba2645-3fb6-410f-af74-3262ce5b5740",
   "metadata": {},
   "source": [
    "<b>Используем метод **`fillna()`** для автоматической замены пустых значение средним для всех оставшихся колонок</b>"
   ]
  },
  {
   "cell_type": "code",
   "execution_count": null,
   "id": "bd7c08a2-b3d2-48e2-8618-c877a89ac6d3",
   "metadata": {},
   "outputs": [],
   "source": [
    "df.info()"
   ]
  },
  {
   "cell_type": "code",
   "execution_count": null,
   "id": "dfd81ecb-856d-4d09-80dd-9cc8facab3b2",
   "metadata": {},
   "outputs": [],
   "source": [
    "df[['bore', 'horsepower', 'peak-rpm']] = df[['bore', 'horsepower', 'peak-rpm']].astype('float')\n"
   ]
  },
  {
   "cell_type": "code",
   "execution_count": null,
   "id": "e22fefe8-8100-4aba-bdf6-1f5f94fa2554",
   "metadata": {},
   "outputs": [],
   "source": [
    "columns_to_fill = ['bore', 'horsepower', 'peak-rpm']"
   ]
  },
  {
   "cell_type": "code",
   "execution_count": null,
   "id": "f71e10b9-d26d-4a9f-8c99-6406ddbfe69d",
   "metadata": {},
   "outputs": [],
   "source": [
    "# Заменяем пропущенные значения на средние для всех указанных столбцов\n",
    "df[columns_to_fill].fillna(df[columns_to_fill].mean(), inplace=True)"
   ]
  },
  {
   "cell_type": "code",
   "execution_count": null,
   "id": "083c7b5d-3e2c-47bb-af8b-b8c6c5763451",
   "metadata": {},
   "outputs": [],
   "source": [
    "df.isna().sum()"
   ]
  },
  {
   "cell_type": "markdown",
   "id": "f6212b0d-d2e6-4af2-852f-ca23b52f343f",
   "metadata": {},
   "source": [
    "<b>Подсчет значений </b><br>\n",
    "**`value_counts()`** — показывает, какие значения представлены в колонке.\n",
    "   <br>Пример:"
   ]
  },
  {
   "cell_type": "code",
   "execution_count": null,
   "id": "a28ffad4-bc6d-406a-8655-61673ed1dddb",
   "metadata": {},
   "outputs": [],
   "source": [
    "df['num-of-doors'].value_counts()"
   ]
  },
  {
   "cell_type": "markdown",
   "id": "0d4e0c38-a331-4ce5-952b-3bb1bfa6f8a8",
   "metadata": {},
   "source": [
    "Отсюда видно, что самый популярный тип - с количеством дверей, равным 4м. Но для определения самого популярного значения также есть метод **`idxmax()`** "
   ]
  },
  {
   "cell_type": "code",
   "execution_count": null,
   "id": "43b4b10e-9840-4929-a697-12203afa77a6",
   "metadata": {},
   "outputs": [],
   "source": [
    "df['num-of-doors'].value_counts().idxmax()"
   ]
  },
  {
   "cell_type": "markdown",
   "id": "be9b7173-210a-4ebd-a36d-54bbc1512a56",
   "metadata": {},
   "source": [
    "<div class=\"alert alert-danger alertdanger\" style=\"margin-top: 20px\">\n",
    "<h1> Задание #4: </h1>\n",
    "<b> Замените пропущенные значения в колонке num-of-doors на самое популярное значение</b>\n",
    "</div>"
   ]
  },
  {
   "cell_type": "code",
   "execution_count": null,
   "id": "b4f21421-a512-42fb-92ec-27d7f1df2a55",
   "metadata": {},
   "outputs": [],
   "source": [
    "# Напишите ваш код ниже и наждмите Shift+Enter для исполнения\n"
   ]
  },
  {
   "cell_type": "markdown",
   "id": "c1007d35-b622-4fcb-86ad-fc717dbe27db",
   "metadata": {},
   "source": [
    "<details><summary>Нажмите здесь, чтобы увидеть решение</summary>\n",
    "\n",
    "```python\n",
    "# Заменяем пропущенные значения на самое популярное (four)\n",
    "df[\"num-of-doors\"].replace(np.nan, \"four\", inplace=True)\n",
    "```"
   ]
  },
  {
   "cell_type": "markdown",
   "id": "21e7e96c-02a5-4405-9486-1243eda90f53",
   "metadata": {},
   "source": [
    "Еще раз взглянем на наш датасет, используя метод display()"
   ]
  },
  {
   "cell_type": "code",
   "execution_count": null,
   "id": "2ae66de7-16a3-41f6-9b80-7b42cc7bfb73",
   "metadata": {},
   "outputs": [],
   "source": [
    "display(df)"
   ]
  },
  {
   "cell_type": "markdown",
   "id": "248050fa-6ece-4ac3-a951-602b8748dd37",
   "metadata": {},
   "source": [
    "Так как мы удалили несколько строк, индексация была нарушена. Используем метод **`reset_index()`** для обновления индексации. <br> Параметр **`drop=True`** удаляет колонку с нарушенными индексами."
   ]
  },
  {
   "cell_type": "code",
   "execution_count": null,
   "id": "8901352f-0306-4609-b40d-f6fccef704b4",
   "metadata": {},
   "outputs": [],
   "source": [
    "df.reset_index(drop=True, inplace=True)"
   ]
  },
  {
   "cell_type": "markdown",
   "id": "150bb20d-8fd3-4ce4-baea-996dbd09de83",
   "metadata": {},
   "source": [
    "### Исправим формат данных\n",
    "<b>Мы почти закончили!</b>\n",
    "\n",
    "<p>Последний шаг в очистке данных — это проверка и убеждение, что все данные находятся в правильном формате (int, float, текст или другой).</p>\n",
    "В Pandas используется:\n",
    "\n",
    "<p><b>.dtype()</b> для проверки типа данных</p> <p><b>.astype()</b> для изменения типа данных</p>"
   ]
  },
  {
   "cell_type": "code",
   "execution_count": null,
   "id": "79644e8c-bda7-4860-b17d-f029cc4fef44",
   "metadata": {},
   "outputs": [],
   "source": [
    "# проверим типы данных\n",
    "df.dtypes"
   ]
  },
  {
   "cell_type": "markdown",
   "id": "6e29c455-688e-4897-8f36-ef72633f1f77",
   "metadata": {},
   "source": [
    "Как вы можете видеть выше, некоторые столбцы имеют неверный тип данных. Числовые переменные должны иметь тип 'float' или 'int', а переменные с текстовыми значениями, такими как категории, должны иметь тип 'object'. Например, числовые значения 'bore' и 'stroke' описывают характеристики двигателя, поэтому вы должны ожидать, что они будут иметь тип 'float' или 'int'; однако, они отображаются как тип 'object'. Вам нужно преобразовать типы данных в правильный формат для каждого столбца, используя метод \"astype()\"."
   ]
  },
  {
   "cell_type": "code",
   "execution_count": null,
   "id": "a0719e3f-3de7-46db-acf5-03a896b6d9fe",
   "metadata": {},
   "outputs": [],
   "source": [
    "df[[\"bore\", \"stroke\"]] = df[[\"bore\", \"stroke\"]].astype(\"float\")\n",
    "df[[\"normalized-losses\"]] = df[[\"normalized-losses\"]].astype(\"int\")\n",
    "df[[\"price\"]] = df[[\"price\"]].astype(\"float\")\n",
    "df[[\"peak-rpm\"]] = df[[\"peak-rpm\"]].astype(\"float\")"
   ]
  },
  {
   "cell_type": "code",
   "execution_count": null,
   "id": "3d34b42c-6046-45ae-a6fb-39a0a2546cb4",
   "metadata": {},
   "outputs": [],
   "source": [
    "df.dtypes"
   ]
  },
  {
   "cell_type": "markdown",
   "id": "6dd88a4b-9ef3-4632-8151-d80ebdb1ad3e",
   "metadata": {},
   "source": [
    "# Выявление выбросов (Outliers)"
   ]
  },
  {
   "cell_type": "markdown",
   "id": "f029fe7b-2c16-4dd6-abfa-6328c3a0140d",
   "metadata": {},
   "source": [
    "Выявление выбросов в данных — важный этап анализа, поскольку выбросы могут искажать результаты модели или статистических расчетов. Для выявления выбросов существует несколько методов в зависимости от того, какие данные вы анализируете. Вот основные методы, которые можно использовать в Pandas и других инструментах для анализа данных:"
   ]
  },
  {
   "cell_type": "markdown",
   "id": "385b5c74-42ea-499a-a1d8-7915e7504e44",
   "metadata": {},
   "source": [
    "## Визуальные методы\n",
    "Для наглядного выявления выбросов часто используются графики, такие как boxplot и гистограммы."
   ]
  },
  {
   "cell_type": "markdown",
   "id": "816271f9-d48f-4592-bb73-c6144b401593",
   "metadata": {},
   "source": [
    "### 1. Boxplot \n",
    "Этот график помогает увидеть выбросы в данных. Выбросы будут показаны в виде точек за пределами \"усов\" графика."
   ]
  },
  {
   "cell_type": "code",
   "execution_count": null,
   "id": "88bb4b02-3b9f-46a3-a27e-61a93979d503",
   "metadata": {},
   "outputs": [],
   "source": [
    "import matplotlib.pyplot as plt\n",
    "import seaborn as sns\n",
    "\n",
    "sns.boxplot(x=df['column_name'])\n",
    "plt.show()"
   ]
  },
  {
   "cell_type": "markdown",
   "id": "f7869045-f8bb-481c-86de-7a3148112df2",
   "metadata": {},
   "source": [
    "### 2. Гистограмма (Histogram)\n",
    "Гистограммы помогают увидеть распределение данных и возможные аномалии или выбросы."
   ]
  },
  {
   "cell_type": "code",
   "execution_count": null,
   "id": "0027f57a-1b98-4948-8773-58551959b8c2",
   "metadata": {},
   "outputs": [],
   "source": [
    "df['column_name'].hist(bins=50)\n",
    "plt.show()"
   ]
  },
  {
   "cell_type": "markdown",
   "id": "7fdaaff3-7a8b-4898-82ef-46f7caa366a5",
   "metadata": {},
   "source": [
    "или"
   ]
  },
  {
   "cell_type": "code",
   "execution_count": null,
   "id": "4e29375c-ff5e-4897-923d-f058d6e1e1c7",
   "metadata": {},
   "outputs": [],
   "source": [
    "g = sns.displot(df, x=\"column_name\", kde=True)\n",
    "g.set(title=\"Распределение переменной\")\n",
    "plt.xticks(rotation=30)\n",
    "plt.show()"
   ]
  },
  {
   "cell_type": "markdown",
   "id": "b9f8b588-6f7a-437b-9de6-5db371cdac77",
   "metadata": {},
   "source": [
    "Для лучшего понимания распределения расчитываются такие статистические данные, как: <br>\n",
    "<b>Mean (Среднее значение)</b>: Это просто среднее арифметическое значение всех данных в выборке. Среднее отражает общий центр данных, но при наличии сильно смещённых данных может не точно отображать типичное значение (в отличие от медианы).\n",
    "\n",
    "<b>Median (Медиана)</b>: Это центральное значение выборки, то есть половина данных находится ниже этого значения, а половина — выше. Если медиана ниже или выше среднего, то это указывает на то, что в данных есть выбросы.\n",
    "\n",
    "<b>Skewness (Скос, асимметрия)</b>: Эта метрика показывает асимметрию распределения данных:\n",
    "\n",
    "Если skewness = 0, данные симметрично распределены.\n",
    "Если skewness > 0, распределение смещено вправо (правый \"хвост\" длиннее - в данных есть много высоких значений, которые создают длинный хвост справа).\n",
    "Если skewness < 0, распределение смещено влево (левый \"хвост\" длиннее - в данных есть много низких значений, которые создают длинный хвост слева).\n",
    "                  \n",
    "<b>Kurtosis (Куртозис)</b>: Это мера \"высоты\" или \"остроты\" пика распределения:\n",
    "\n",
    "Если kurtosis = 3, распределение считается нормальным.\n",
    "Если kurtosis > 3, распределение более \"остроконечное\" (острый пик и более длинные хвосты). Означает наличие выбросов.\n",
    "Если kurtosis < 3, распределение более плоское, чем нормальное. Означает наличие выбросов."
   ]
  },
  {
   "cell_type": "code",
   "execution_count": null,
   "id": "0b349962-eaf9-4a79-b7c1-9e434faaf2b6",
   "metadata": {},
   "outputs": [],
   "source": [
    "print(\"Mean:\", data_clean[\"UnitPrice\"].mean())\n",
    "print(\"Median:\", data_clean[\"UnitPrice\"].median())\n",
    "print(\"Skewness:\", data_clean[\"UnitPrice\"].skew())\n",
    "print(\"Kurtosis:\", data_clean[\"UnitPrice\"].kurtosis())"
   ]
  },
  {
   "cell_type": "markdown",
   "id": "0a679bcd-f3c7-47d2-b277-cd2fc042fe59",
   "metadata": {},
   "source": [
    "## Метод межквартильного диапазона (IQR)\n",
    "Межквартильный диапазон (Interquartile Range, IQR) — это диапазон между первым (25-й процентиль) и третьим квартилем (75-й процентиль). Обычно выбросами считаются значения, которые выходят за пределы 1.5 * IQR."
   ]
  },
  {
   "cell_type": "code",
   "execution_count": null,
   "id": "da01eebf-03ad-41aa-b410-0c140ee75b27",
   "metadata": {},
   "outputs": [],
   "source": [
    "Q1 = df['column_name'].quantile(0.25)\n",
    "Q3 = df['column_name'].quantile(0.75)\n",
    "IQR = Q3 - Q1\n",
    "\n",
    "# Границы для выбросов\n",
    "lower_bound = Q1 - 1.5 * IQR\n",
    "upper_bound = Q3 + 1.5 * IQR\n",
    "\n",
    "# Фильтрация выбросов\n",
    "outliers = df[(df['column_name'] < lower_bound) | (df['column_name'] > upper_bound)]\n"
   ]
  },
  {
   "cell_type": "markdown",
   "id": "f5e5426a-1d2a-497a-8368-b1185bfea663",
   "metadata": {},
   "source": [
    "## Метод Z-оценки (Z-score)\n",
    "Z-оценка показывает, насколько далеко значение находится от среднего в терминах стандартных отклонений. Значения с Z-оценкой выше 3 или ниже -3 часто считаются выбросами."
   ]
  },
  {
   "cell_type": "code",
   "execution_count": null,
   "id": "ce5aa377-e36f-4c45-8124-213ac9be34d4",
   "metadata": {},
   "outputs": [],
   "source": [
    "from scipy import stats\n",
    "\n",
    "# Вычисляем Z-оценки для столбца\n",
    "df['z_score'] = stats.zscore(df['column_name'])\n",
    "\n",
    "# Фильтруем выбросы\n",
    "outliers = df[(df['z_score'] > 3) | (df['z_score'] < -3)]\n"
   ]
  },
  {
   "cell_type": "markdown",
   "id": "1519dd8d-83d6-40df-8b90-26e8c3ff19b0",
   "metadata": {},
   "source": [
    "## Метод локальной факторной оценки выбросов (LOF)\n",
    "Этот метод оценивает плотность каждого наблюдения и сопоставляет его с плотностью соседних наблюдений, чтобы определить, является ли точка выбросом."
   ]
  },
  {
   "cell_type": "code",
   "execution_count": null,
   "id": "1a2311e8-f746-4498-98c1-9cdc30d8f0f7",
   "metadata": {},
   "outputs": [],
   "source": [
    "from sklearn.neighbors import LocalOutlierFactor\n",
    "\n",
    "# Создание модели LOF\n",
    "lof = LocalOutlierFactor()\n",
    "outliers = lof.fit_predict(df[['column_name']])\n",
    "\n",
    "# Фильтруем выбросы\n",
    "df_outliers = df[outliers == -1]\n"
   ]
  },
  {
   "cell_type": "markdown",
   "id": "c9d9a9ec-abad-4bf5-86e9-0e2ac3c6340d",
   "metadata": {},
   "source": [
    "<div class=\"alert alert-danger alertdanger\" style=\"margin-top: 20px\">\n",
    "<h1> Задание #5: </h1>\n",
    "<b> Постройте боксплот для визуализации выбросов для колонки \"price\" и используйте один из статистических методов для удаления выбросов.</b>\n",
    "</div>"
   ]
  },
  {
   "cell_type": "code",
   "execution_count": null,
   "id": "284f72eb-ea7c-447c-bffb-0138ab889895",
   "metadata": {},
   "outputs": [],
   "source": [
    "# Напишите ваш код ниже и наждмите Shift+Enter для исполнения\n"
   ]
  },
  {
   "cell_type": "markdown",
   "id": "3d61ca62-e797-4f9c-8f6b-8a31d8f03b0f",
   "metadata": {},
   "source": [
    "<details><summary>Нажмите здесь, чтобы увидеть решение</summary>\n",
    "\n",
    "```python\n",
    "# Визуализируем боксплот для выявления выбросов\n",
    "plt.figure(figsize=(8, 6))\n",
    "df.boxplot(column='price')\n",
    "plt.title('Боксплот цены автомобилей')\n",
    "plt.ylabel('Цена за единицу')\n",
    "plt.show()\n",
    "\n",
    "# Вычисляем первый и третий квартиль\n",
    "Q1 = df['price'].quantile(0.25)\n",
    "Q3 = df['price'].quantile(0.75)\n",
    "\n",
    "# Вычисляем межквартильный диапазон (IQR)\n",
    "IQR = Q3 - Q1\n",
    "\n",
    "# Определяем нижнюю и верхнюю границы\n",
    "lower_bound = Q1 - 1.5 * IQR\n",
    "upper_bound = Q3 + 1.5 * IQR\n",
    "\n",
    "# Отфильтровываем строки, где значения 'price' не являются выбросами\n",
    "df_cleaned = df[(df['price'] >= lower_bound) & (df['price'] <= upper_bound)]\n",
    "\n",
    "# Выводим очищенный DataFrame\n",
    "df_cleaned\n",
    "\n",
    "```"
   ]
  },
  {
   "cell_type": "markdown",
   "id": "4f54ea03-4f3b-4cab-a7ff-5bad7c1e29ca",
   "metadata": {},
   "source": [
    "### Основы группировки данных\n",
    "Метод groupby() в Pandas — это мощный инструмент для агрегирования, группировки и выполнения вычислений над данными. Он позволяет разделить данные на группы на основе значений одного или нескольких столбцов, а затем применить к этим группам различные операции, такие как суммирование, среднее, подсчет и другие."
   ]
  },
  {
   "cell_type": "markdown",
   "id": "5034843f-dd6b-4535-9122-174cc2d50a0b",
   "metadata": {},
   "source": [
    "### Как работает groupby():\n",
    "Метод groupby() работает по следующей схеме, известной как \"split-apply-combine\" (разделить-применить-объединить):\n",
    "<br>\n",
    "- Разделить (Split): DataFrame разбивается на группы по значениям одного или нескольких столбцов.\n",
    "- Применить (Apply): К каждой группе применяется функция для выполнения вычислений (например, суммирование, среднее, максимальное значение и т.д.).\n",
    "- Объединить (Combine): Результаты применения функции к каждой группе объединяются в итоговый DataFrame."
   ]
  },
  {
   "cell_type": "markdown",
   "id": "dbb1e3f5-1d9e-453b-abc7-19bd4f5f9ae9",
   "metadata": {},
   "source": [
    "Синтаксис:"
   ]
  },
  {
   "cell_type": "code",
   "execution_count": null,
   "id": "b537efe9-5463-4c40-8769-b26ee509336b",
   "metadata": {},
   "outputs": [],
   "source": [
    "df.groupby(by='column_name')"
   ]
  },
  {
   "cell_type": "markdown",
   "id": "74f1af81-de6d-4522-9ee2-3213b7840acc",
   "metadata": {},
   "source": [
    "- by — это столбец (или несколько столбцов), по значениям которого производится группировка"
   ]
  },
  {
   "cell_type": "markdown",
   "id": "ec01e429-673b-4760-a5d4-a08c96a69410",
   "metadata": {},
   "source": [
    "### Параметры функции groupby()"
   ]
  },
  {
   "cell_type": "code",
   "execution_count": null,
   "id": "808da876-36d7-4c6e-baf3-f42c6b639959",
   "metadata": {},
   "outputs": [],
   "source": [
    "df.groupby(by=None, axis=0, level=None, as_index=True, sort=True, group_keys=True, observed=False, dropna=True)"
   ]
  },
  {
   "cell_type": "markdown",
   "id": "87be95a1-b8ac-4fa2-836f-266b70a08cd5",
   "metadata": {},
   "source": [
    "**`axis`** — указывает, по какому измерению выполнять группировку.\n",
    "- axis=0 (по умолчанию): группировка по строкам\n",
    "- axis=1 : группировка по столбцам\n",
    "   <br>Пример:"
   ]
  },
  {
   "cell_type": "code",
   "execution_count": null,
   "id": "116e0e57-a409-4c69-9965-f6ca94e52702",
   "metadata": {},
   "outputs": [],
   "source": [
    "df.groupby(by='column_name', axis=0)"
   ]
  },
  {
   "cell_type": "markdown",
   "id": "2e0a965e-8cb2-4097-8fb5-fcd0962ba020",
   "metadata": {},
   "source": [
    "**`level`** — используется для группировки по уровню в многоуровневом индексе (MultiIndex). Если DataFrame имеет несколько уровней индекса, можно указать номер уровня (или имя уровня) для группировки.\n",
    "   <br>Пример:"
   ]
  },
  {
   "cell_type": "code",
   "execution_count": null,
   "id": "540f2291-2e6e-4ac9-a31a-71e338f38782",
   "metadata": {},
   "outputs": [],
   "source": [
    "df.groupby(level=0)  # Группировка по первому уровню индекса"
   ]
  },
  {
   "cell_type": "markdown",
   "id": "f3e07241-6224-4202-9985-2363a8bc54b2",
   "metadata": {},
   "source": [
    "**`as_index`** — указывает, по какому измерению выполнять группировку.\n",
    "- as_index=True (по умолчанию): группирующий столбец или уровень становится индексом результирующего DataFrame\n",
    "- as_index=False : руппирующий столбец сохраняется как обычный столбец\n",
    "   <br>Пример:"
   ]
  },
  {
   "cell_type": "code",
   "execution_count": null,
   "id": "ff7e1b8c-68eb-4866-9453-a1f0c287c69c",
   "metadata": {},
   "outputs": [],
   "source": [
    "df.groupby('column_name', as_index=False`)"
   ]
  },
  {
   "cell_type": "markdown",
   "id": "dc4c97ae-2310-4f0a-ad88-ed02a9ce18fc",
   "metadata": {},
   "source": [
    "**`sort`** — выполняет сортировку по значениям.\n",
    "   <br>Пример:"
   ]
  },
  {
   "cell_type": "code",
   "execution_count": null,
   "id": "0732f196-f157-4870-a5d6-5282e028429f",
   "metadata": {},
   "outputs": [],
   "source": [
    "df.groupby('column_name', sort=False)"
   ]
  },
  {
   "cell_type": "markdown",
   "id": "416936e3-b09e-42c9-9948-72e0e1fab242",
   "metadata": {},
   "source": [
    "**`group_keys`** — управляет тем, добавляются ли ключи группировки в индекс.\n",
    "- group_keys=True (по умолчанию): ключи группировки включаются в индекс при вызове метода apply()\n",
    "   <br>Пример:"
   ]
  },
  {
   "cell_type": "code",
   "execution_count": null,
   "id": "79ac5372-7d2b-47ec-bd96-8181796ed74b",
   "metadata": {},
   "outputs": [],
   "source": [
    "df.groupby('column_name', group_keys=False)"
   ]
  },
  {
   "cell_type": "markdown",
   "id": "51d08826-0792-49a9-83e6-375ff3ab4f2b",
   "metadata": {},
   "source": [
    "**`observed`** — этот параметр актуален для категориальных данных (при группировке по категориальным столбцам).\n",
    "- observed=True : только категории, фактически присутствующие в данных, будут показаны в результате\n",
    "- observed=False (по умолчанию): все категории будут показаны, даже если они не присутствуют в данных \n",
    "   <br>Пример:"
   ]
  },
  {
   "cell_type": "code",
   "execution_count": null,
   "id": "02dbcc12-2ebb-48a3-8944-6149c6c458fb",
   "metadata": {},
   "outputs": [],
   "source": [
    "df.groupby('category_column', observed=True)"
   ]
  },
  {
   "cell_type": "markdown",
   "id": "dc96288b-1e1a-43bd-8ac4-595d03546015",
   "metadata": {},
   "source": [
    "**`dropna`** — игнорирование NaN значений в группировочном столбце. По умолчанию - True\n",
    "   <br>Пример:"
   ]
  },
  {
   "cell_type": "code",
   "execution_count": null,
   "id": "bbdbf664-8de3-42f0-80ce-2a51b8832354",
   "metadata": {},
   "outputs": [],
   "source": [
    "df.groupby('column_name', dropna=False)"
   ]
  },
  {
   "cell_type": "markdown",
   "id": "bdc8cc92-406a-40a6-a27b-4fe69a8be306",
   "metadata": {},
   "source": [
    "### Примеры использования"
   ]
  },
  {
   "cell_type": "markdown",
   "id": "1bd596b3-ce83-4d02-a26a-61228da659f8",
   "metadata": {},
   "source": [
    "<b>Группировка и суммирование значений</b><br>\n",
    "Предположим, у вас есть DataFrame df с двумя столбцами: category и values. Мы можем сгруппировать данные по столбцу category и вычислить сумму для каждого значения:"
   ]
  },
  {
   "cell_type": "code",
   "execution_count": null,
   "id": "d6e4e0f8-281e-4f1c-a9cc-dd95690469ce",
   "metadata": {},
   "outputs": [],
   "source": [
    "grouped_df = df.groupby('category')['values'].sum()"
   ]
  },
  {
   "cell_type": "markdown",
   "id": "6e1b778c-014a-4654-81e4-bdf03923fb5f",
   "metadata": {},
   "source": [
    "Здесь:\n",
    "\n",
    "- df.groupby('category') — группирует данные по значениям в столбце category.\n",
    "- ['values'].sum() — вычисляет сумму значений для каждой группы."
   ]
  },
  {
   "cell_type": "markdown",
   "id": "76586c75-d48e-48c3-a3b2-3f32cf279747",
   "metadata": {},
   "source": [
    "<b>Группировка и вычисление среднего значения</b><br>\n",
    "Допустим, у нас есть столбец score, и мы хотим узнать среднее значение для каждой категории:"
   ]
  },
  {
   "cell_type": "code",
   "execution_count": null,
   "id": "711260e2-3b2e-46ce-98c7-17330e26d066",
   "metadata": {},
   "outputs": [],
   "source": [
    "grouped_df = df.groupby('category')['score'].mean()"
   ]
  },
  {
   "cell_type": "markdown",
   "id": "c08a7249-d284-4943-b61e-d9055c682705",
   "metadata": {},
   "source": [
    "<b>Применение нескольких функций к одной группе</b>"
   ]
  },
  {
   "cell_type": "code",
   "execution_count": null,
   "id": "820c67cd-83ff-40e6-b19e-2e5aef49e1ec",
   "metadata": {},
   "outputs": [],
   "source": [
    "grouped_df = df.groupby('category')['metric'].agg(['mean', 'sum', 'max'])"
   ]
  },
  {
   "cell_type": "markdown",
   "id": "56b1acab-45a6-4c78-baf6-a80aac390843",
   "metadata": {},
   "source": [
    "<b>Группировка по нескольким столбцам</b><br>\n",
    "Можно сгруппировать данные по нескольким столбцам. Например, если есть столбцы category и type, мы можем посчитать сумму для каждой комбинации этих двух столбцов:"
   ]
  },
  {
   "cell_type": "code",
   "execution_count": null,
   "id": "d22c388f-6002-4da9-b4dc-a7ace9840d7b",
   "metadata": {},
   "outputs": [],
   "source": [
    "grouped_df = df.groupby(['category', 'type'])['values'].sum()"
   ]
  },
  {
   "cell_type": "markdown",
   "id": "96c28bb1-404a-45e5-b1b3-13eeff5428af",
   "metadata": {},
   "source": [
    "<b>Применение пользовательской функции</b><br>\n",
    "Вы можете применять собственные функции к группам с помощью метода apply(). Например, можно вычислить разницу между максимальным и минимальным значением в каждой группе:"
   ]
  },
  {
   "cell_type": "code",
   "execution_count": null,
   "id": "a4d35c4d-0e75-49ef-b15b-d23b7cfa82ab",
   "metadata": {},
   "outputs": [],
   "source": [
    "grouped_df = df.groupby('category')['values'].apply(lambda x: x.max() - x.min())"
   ]
  },
  {
   "cell_type": "markdown",
   "id": "5c533139-b006-482b-b90d-0c30233aaecd",
   "metadata": {},
   "source": [
    "<b>Создание многоуровневого индекса из столбцов (на примере)</b><br>"
   ]
  },
  {
   "cell_type": "code",
   "execution_count": null,
   "id": "b710c7b0-804f-4a74-84da-1ebe7908a5a0",
   "metadata": {},
   "outputs": [],
   "source": [
    "# Примерные данные\n",
    "data = {\n",
    "    'город': ['Москва', 'Москва', 'Питер', 'Питер'],\n",
    "    'улица': ['Арбат', 'Тверская', 'Невский', 'Литейный'],\n",
    "    'значение': [100, 200, 150, 250]\n",
    "}\n",
    "\n",
    "# Создание DataFrame\n",
    "df = pd.DataFrame(data)\n",
    "\n",
    "# Группировка данных\n",
    "grouped = df.groupby(['город', 'улица'], as_index=True).sum()\n",
    "\n",
    "# Вывод DataFrame\n",
    "print(grouped)"
   ]
  },
  {
   "cell_type": "markdown",
   "id": "e05326bb-b992-4da4-92a8-2e76836bde0f",
   "metadata": {},
   "source": [
    "<b>Группировка с использованием многоуровневого индекса</b>"
   ]
  },
  {
   "cell_type": "code",
   "execution_count": null,
   "id": "0f47d590-6d5d-45ee-9e84-8a1eb2629851",
   "metadata": {},
   "outputs": [],
   "source": [
    "grouped_2 = grouped.groupby(level='город').sum()\n",
    "print(grouped_2)"
   ]
  },
  {
   "cell_type": "markdown",
   "id": "1938839a-342a-4b54-946a-4ed0be06afe8",
   "metadata": {},
   "source": [
    "<b>Восстановление столбцов из индекса</b><br>\n",
    "Если вы хотите вернуть многоуровневый индекс обратно в столбцы, можно использовать метод reset_index():"
   ]
  },
  {
   "cell_type": "code",
   "execution_count": null,
   "id": "ea82e1c5-7f22-4ecb-92ac-aba01041c5ed",
   "metadata": {},
   "outputs": [],
   "source": [
    "df_reset = grouped.reset_index()\n",
    "print(df_reset)\n"
   ]
  },
  {
   "cell_type": "markdown",
   "id": "c903f32e-167f-415b-b43f-cb48be5f23b1",
   "metadata": {},
   "source": [
    "## Группировка данных по категориям колес"
   ]
  },
  {
   "cell_type": "markdown",
   "id": "bb54c989-cd6f-4174-9dc3-a822ca402dce",
   "metadata": {},
   "source": [
    "Для начала посмотрим, сколько категорий колес вообще есть в нашем датасете. Это можно сделать несколькими способами."
   ]
  },
  {
   "cell_type": "code",
   "execution_count": null,
   "id": "fac2d08a-7181-4669-a9d7-f53bb272c89d",
   "metadata": {},
   "outputs": [],
   "source": [
    "df['drive-wheels'].unique()"
   ]
  },
  {
   "cell_type": "code",
   "execution_count": null,
   "id": "cd8f203b-d7ae-4934-9b34-44f48941cc07",
   "metadata": {},
   "outputs": [],
   "source": [
    "df['drive-wheels'].value_counts()"
   ]
  },
  {
   "cell_type": "markdown",
   "id": "6bf49328-a849-40c5-bbe2-27119d48d58c",
   "metadata": {},
   "source": [
    "Создадим отдельный датасет для нашей группировки."
   ]
  },
  {
   "cell_type": "code",
   "execution_count": null,
   "id": "6718dac8-cba3-47d6-ad9b-5a66e7470483",
   "metadata": {},
   "outputs": [],
   "source": [
    "df_group_one = df[['drive-wheels','body-style','price']]\n",
    "display(df_group_one)"
   ]
  },
  {
   "cell_type": "code",
   "execution_count": null,
   "id": "53f4b9c3-788e-4ffa-b05e-2996a21dcbaa",
   "metadata": {},
   "outputs": [],
   "source": [
    "df_group_one.loc[:, 'price'] = df_group_one['price'].astype(float)"
   ]
  },
  {
   "cell_type": "code",
   "execution_count": null,
   "id": "7cb7fc9d-0007-47d9-ad06-e097bd66fd83",
   "metadata": {},
   "outputs": [],
   "source": [
    "df.info()"
   ]
  },
  {
   "cell_type": "markdown",
   "id": "8231f302-ea15-422f-813f-b37b2bc21388",
   "metadata": {},
   "source": [
    "Мы можем затем вычислить среднюю цену для каждой из различных категорий данных."
   ]
  },
  {
   "cell_type": "code",
   "execution_count": null,
   "id": "0d39cff0-717a-49f5-8459-5ff4945a2243",
   "metadata": {},
   "outputs": [],
   "source": [
    "df_grouped = df_group_one.groupby(['drive-wheels'], as_index=False).agg({'price': 'mean'})\n",
    "df_grouped"
   ]
  },
  {
   "cell_type": "markdown",
   "id": "19fc11f8-6522-4c5d-b9a1-16574ac3321d",
   "metadata": {},
   "source": [
    "Судя по нашим данным, автомобили с задним приводом, в среднем, самые дорогие, тогда как полноприводные и с передним приводом примерно одинаковы по цене.\n",
    "\n",
    "Вы также можете группировать по нескольким переменным. Например, давайте сгруппируем по \"drive-wheels\" (тип привода) и \"body-style\" (тип кузова). Это сгруппирует DataFrame по уникальной комбинации значений \"drive-wheels\" и \"body-style\". Мы можем сохранить результаты в переменной 'grouped_test1'."
   ]
  },
  {
   "cell_type": "code",
   "execution_count": null,
   "id": "e4370737-eb51-4942-bb42-3ee763a3ec89",
   "metadata": {},
   "outputs": [],
   "source": [
    "grouped_test1 = df_group_one.groupby(['drive-wheels','body-style'],as_index=False).mean()\n",
    "grouped_test1"
   ]
  },
  {
   "cell_type": "markdown",
   "id": "4ae27d5c-acd9-486c-9a32-49d488b8b00c",
   "metadata": {},
   "source": [
    "Эти сгруппированные данные намного легче визуализировать, если они преобразованы в сводную таблицу. Сводная таблица похожа на таблицу в Excel, где одна переменная располагается по столбцам, а другая по строкам. Мы можем преобразовать DataFrame в сводную таблицу с помощью метода \"pivot\", чтобы создать сводную таблицу из групп.\n",
    "\n",
    "В этом случае мы оставим переменную drive-wheels (тип привода) в качестве строк таблицы, а переменную body-style (тип кузова) переместим в столбцы таблицы."
   ]
  },
  {
   "cell_type": "code",
   "execution_count": null,
   "id": "d47e0870-413a-4d46-b790-efea168a6730",
   "metadata": {},
   "outputs": [],
   "source": [
    "grouped_pivot = grouped_test1.pivot(index='drive-wheels',columns='body-style')\n",
    "print(grouped_pivot)"
   ]
  },
  {
   "cell_type": "markdown",
   "id": "c6e69f22-4528-40e7-82f3-bdea56f96926",
   "metadata": {},
   "source": [
    "<div class=\"alert alert-danger alertdanger\" style=\"margin-top: 20px\">\n",
    "<h1> Задание #6: </h1>\n",
    "<b> Используйте функцию groupby для того, чтобы найти среднюю цену машин по колонке \"body-style\"</b>\n",
    "</div>"
   ]
  },
  {
   "cell_type": "code",
   "execution_count": null,
   "id": "2ae6b15d-bb28-455a-901b-bb7d81914681",
   "metadata": {},
   "outputs": [],
   "source": [
    "df_gptest2.loc[:, 'price'] = df_gptest2['price'].astype(float)"
   ]
  },
  {
   "cell_type": "code",
   "execution_count": null,
   "id": "99327969-917a-4a4a-9135-891b0bd5d378",
   "metadata": {},
   "outputs": [],
   "source": [
    "# Напишите ваш код ниже и наждмите Shift+Enter для исполнения\n"
   ]
  },
  {
   "cell_type": "markdown",
   "id": "40f69fb9-6b74-4924-bee5-8ef27c5ca494",
   "metadata": {},
   "source": [
    "<details><summary>Нажмите здесь, чтобы увидеть решение</summary>\n",
    "\n",
    "```python\n",
    "df_gptest2 = df[['body-style','price']]\n",
    "grouped_test_bodystyle = df_gptest2.groupby(['body-style'],as_index= False).mean()\n",
    "grouped_test_bodystyle\n",
    "```\n",
    "\n",
    "\n",
    "\n",
    "\n"
   ]
  },
  {
   "cell_type": "markdown",
   "id": "56efb177-c0c2-4577-afd5-9453ab76b679",
   "metadata": {},
   "source": [
    "# Корреляция и причинно-следственная связь"
   ]
  },
  {
   "cell_type": "markdown",
   "id": "b6cd1f53-6aa9-4d28-8d9a-46caffce684d",
   "metadata": {},
   "source": [
    "<p><b>Корреляция</b>: мера степени взаимозависимости между переменными.</p> <p><b>Причинно-следственная связь</b>: отношение между причиной и следствием между двумя переменными.</p> <p>Важно понимать разницу между этими двумя понятиями. Корреляция не подразумевает причинно-следственную связь. Определение корреляции гораздо проще, чем определение причинно-следственной связи, так как для установления причинно-следственной связи могут потребоваться независимые эксперименты.</p>"
   ]
  },
  {
   "cell_type": "markdown",
   "id": "a6cff66c-e9b5-4732-bec0-c8781f6fe7e1",
   "metadata": {},
   "source": [
    "\n",
    "<p><b>Корреляция Пирсона</b></p> <p>Корреляция Пирсона измеряет линейную зависимость между двумя переменными X и Y.</p> <p>Полученный коэффициент представляет собой значение в диапазоне от -1 до 1 включительно, где:</p> <ul> <li><b>1</b>: Идеальная положительная линейная корреляция.</li> <li><b>0</b>: Отсутствие линейной корреляции, две переменные, скорее всего, не влияют друг на друга.</li> <li><b>-1</b>: Идеальная отрицательная линейная корреляция.</li> </ul>\n",
    "\n",
    "\n",
    "\n",
    "\n",
    "\n"
   ]
  },
  {
   "cell_type": "code",
   "execution_count": null,
   "id": "c0d1cd77-66bd-49a8-a0dc-655c5f6c7959",
   "metadata": {},
   "outputs": [],
   "source": [
    "df.corr()"
   ]
  },
  {
   "cell_type": "markdown",
   "id": "1ae8b4f5-29f0-4699-bd76-0f34e2fb3baa",
   "metadata": {},
   "source": [
    "Иногда нам хотелось бы узнать значимость оценки корреляции."
   ]
  },
  {
   "cell_type": "markdown",
   "id": "2f296e6e-ffb3-4da6-8a71-c325a1b00e5e",
   "metadata": {},
   "source": [
    "<b>P-значение</b>\n",
    "\n",
    "<p>Что такое P-значение? P-значение — это вероятность того, что корреляция между двумя переменными является статистически значимой. Обычно мы выбираем уровень значимости 0.05, что означает, что мы уверены на 95%, что корреляция между переменными значима.</p>\n",
    "По общепринятой практике, когда\n",
    "\n",
    "<ul> <li>P-значение < 0.001: это говорит о наличии сильных доказательств того, что корреляция значима.</li> <li>P-значение < 0.05: это указывает на умеренные доказательства значимости корреляции.</li> <li>P-значение < 0.1: это указывает на слабые доказательства значимости корреляции.</li> <li>P-значение > 0.1: это говорит об отсутствии доказательств значимости корреляции.</li> </ul>"
   ]
  },
  {
   "cell_type": "code",
   "execution_count": null,
   "id": "32ee7967-1a78-4219-afb3-f08d0e37f483",
   "metadata": {},
   "outputs": [],
   "source": [
    "from scipy import stats"
   ]
  },
  {
   "cell_type": "markdown",
   "id": "2d6cc025-3aeb-4979-9461-d46e3625e33d",
   "metadata": {},
   "source": [
    "<h3>Wheel-Base vs. Price</h3>"
   ]
  },
  {
   "cell_type": "markdown",
   "id": "1ac63f41-cc0f-4906-a600-0315d8b83732",
   "metadata": {},
   "source": [
    "Давайте вычислим коэффициент корреляции Пирсона и P-значение для переменных 'wheel-base' (база колес) и 'price' (цена)."
   ]
  },
  {
   "cell_type": "code",
   "execution_count": null,
   "id": "bf93db5f-a879-4fad-a9b3-d0cfaa3516a7",
   "metadata": {},
   "outputs": [],
   "source": [
    "pearson_coef, p_value = stats.pearsonr(df['wheel-base'], df['price'])\n",
    "print(\"The Pearson Correlation Coefficient is\", pearson_coef, \" with a P-value of P =\", p_value)  "
   ]
  },
  {
   "cell_type": "markdown",
   "id": "2460eeb4-04ea-4403-bf11-3ecd9307acdd",
   "metadata": {},
   "source": [
    "<h4>Вывод:</h4> <p>Так как P-значение < 0.001, корреляция между базой колес (wheel-base) и ценой (price) является статистически значимой, хотя линейная зависимость не является очень сильной (~0.585).</p>"
   ]
  },
  {
   "cell_type": "markdown",
   "id": "3e3c0a7e-1917-42f4-a7a9-147381ca167f",
   "metadata": {},
   "source": [
    "<h3>Horsepower vs. Price</h3>"
   ]
  },
  {
   "cell_type": "markdown",
   "id": "021f5634-134b-47bb-b395-3da57882024e",
   "metadata": {},
   "source": [
    "Давайте вычислим коэффициент корреляции Пирсона и P-значение для переменных 'horsepower' (мощность) и 'price' (цена)."
   ]
  },
  {
   "cell_type": "code",
   "execution_count": null,
   "id": "b52b35b2-2363-4594-aab6-022e6417bcad",
   "metadata": {},
   "outputs": [],
   "source": [
    "pearson_coef, p_value = stats.pearsonr(df['horsepower'], df['price'])\n",
    "print(\"The Pearson Correlation Coefficient is\", pearson_coef, \" with a P-value of P = \", p_value)  "
   ]
  },
  {
   "cell_type": "markdown",
   "id": "397e7d5b-e89b-4edb-bba4-a1836a6ec553",
   "metadata": {},
   "source": [
    "<h4>Вывод:</h4> <p>Так как P-значение < 0.001, корреляция между мощностью (horsepower) и ценой (price) является статистически значимой, и линейная зависимость достаточно сильная (~0.809, близко к 1).</p>\n",
    "\n",
    "\n",
    "\n",
    "\n",
    "\n"
   ]
  },
  {
   "cell_type": "markdown",
   "id": "72c4138b-09b6-4345-a453-7072d1470c53",
   "metadata": {},
   "source": [
    "### Визуализация корреляции с помощью тепловой карты"
   ]
  },
  {
   "cell_type": "markdown",
   "id": "df1b6550-aea5-4f18-bfb1-b64842fd4e8a",
   "metadata": {},
   "source": [
    "Для визуализации корреляционной матрицы можно использовать библиотеку Seaborn, которая предоставляет удобный метод heatmap() для создания тепловой карты."
   ]
  },
  {
   "cell_type": "code",
   "execution_count": null,
   "id": "1d147a9b-d443-4938-bc2f-9c2d20115360",
   "metadata": {},
   "outputs": [],
   "source": [
    "import seaborn as sns\n",
    "import matplotlib.pyplot as plt\n",
    "\n",
    "# Вычисляем корреляционную матрицу\n",
    "correlation_matrix = df.corr()\n",
    "\n",
    "# Строим тепловую карту корреляционной матрицы\n",
    "plt.figure(figsize=(10, 8))\n",
    "sns.heatmap(correlation_matrix, annot=True, cmap='coolwarm', fmt='.2f')\n",
    "plt.title('Correlation Heatmap')\n",
    "plt.show()"
   ]
  },
  {
   "cell_type": "markdown",
   "id": "00d223ef-1846-40b2-a332-b57456dc8221",
   "metadata": {},
   "source": [
    "- sns.heatmap() — строит тепловую карту на основе корреляционной матрицы.\n",
    "- annot=True — добавляет числовые значения коэффициентов корреляции на тепловую карту.\n",
    "- cmap='coolwarm' — задает цветовую палитру, которая визуализирует положительные и отрицательные корреляции разными цветами.\n",
    "- fmt='.2f' — форматирует значения с двумя знаками после запятой."
   ]
  },
  {
   "cell_type": "markdown",
   "id": "3e879e6e-fabb-4f92-bfa4-ae45703af3f1",
   "metadata": {},
   "source": [
    "### Применение кастомных функций для вычисления p-value"
   ]
  },
  {
   "cell_type": "code",
   "execution_count": null,
   "id": "a49b7207-c18f-4cec-8e90-e8e4c6b2f701",
   "metadata": {},
   "outputs": [],
   "source": [
    "# Функция для вычисления коэффициента корреляции Пирсона и P-значения для всех числовых столбцов\n",
    "def calculate_pearson_for_all(df, target_variable):\n",
    "    numeric_columns = df.select_dtypes(include=['float64', 'int64']).columns\n",
    "    result = {}\n",
    "\n",
    "    for col in numeric_columns:\n",
    "        if col != target_variable:\n",
    "            pearson_coef, p_value = stats.pearsonr(df[col], df[target_variable])\n",
    "            result[col] = {'Pearson Coefficient': pearson_coef, 'P-value': p_value}\n",
    "\n",
    "    return result"
   ]
  },
  {
   "cell_type": "code",
   "execution_count": null,
   "id": "9e33df20-66c0-4b18-9601-f2368b30878f",
   "metadata": {},
   "outputs": [],
   "source": [
    "# Вызываем функцию для всех числовых переменных по отношению к 'price'\n",
    "results = calculate_pearson_for_all(df, 'price')"
   ]
  },
  {
   "cell_type": "markdown",
   "id": "161832d4-8a6a-4c4c-adb2-9614b8b4ea4f",
   "metadata": {},
   "source": [
    "#### Вывод: важные признаки\n",
    "<p>Теперь у нас есть лучшее представление о том, как выглядят наши данные и какие переменные важно учитывать при прогнозировании цены автомобиля. Мы сузили их до следующих переменных:</p>\n",
    "Непрерывные числовые переменные:\n",
    "\n",
    "<ul> <li>Длина (Length)</li> <li>Ширина (Width)</li> <li>Снаряженная масса (Curb-weight)</li> <li>Объем двигателя (Engine-size)</li> <li>Мощность (Horsepower)</li> <li>Городской расход топлива (City-mpg)</li> <li>Трассовый расход топлива (Highway-mpg)</li> <li>Колесная база (Wheel-base)</li> <li>Диаметр цилиндра (Bore)</li> </ul>\n",
    "Категориальные переменные:\n",
    "\n",
    "<ul> <li>Тип привода (Drive-wheels)</li> </ul> <p>Переходя к построению моделей машинного обучения для автоматизации нашего анализа, использование переменных, которые существенно влияют на нашу целевую переменную, улучшит производительность модели в прогнозировании.</p>"
   ]
  },
  {
   "cell_type": "markdown",
   "id": "c82ad760-aa0c-45a2-842d-fdb500a2adf8",
   "metadata": {},
   "source": [
    "# Нормализация и стандартизация"
   ]
  },
  {
   "cell_type": "markdown",
   "id": "28c20a99-03a2-46e6-97c0-456ddce2db0e",
   "metadata": {},
   "source": [
    "## Стандартизация данных\n",
    "<p> Обычно вы собираете данные из разных источников в разных форматах. (Стандартизация данных — это также термин, обозначающий определенный тип нормализации данных, когда вы вычитаете среднее и делите на стандартное отклонение.) </p>\n",
    "<b>Что такое стандартизация?</b>\n",
    "\n",
    "<p>Стандартизация — это процесс преобразования данных в общий формат, позволяющий исследователю проводить значимые сравнения.</p>\n",
    "<b>Пример</b>\n",
    "\n",
    "<p>Преобразование mpg в L/100km:</p> <p>В вашем наборе данных столбцы с расходом топлива \"city-mpg\" и \"highway-mpg\" представлены в единицах mpg (миль на галлон). Предположим, что вы разрабатываете приложение в стране, где используется стандарт расхода топлива в L/100km.</p> <p>Вам нужно будет применить <b>преобразование данных</b>, чтобы преобразовать mpg в L/100km.</p>"
   ]
  },
  {
   "cell_type": "markdown",
   "id": "0c3fc2fd-75e2-4d65-917a-ea565ce8d17f",
   "metadata": {},
   "source": [
    "\n",
    "<p>Используйте эту формулу для преобразования единиц:<p> L/100km = 235 / mpg <p>Вы можете выполнять многие математические операции напрямую, используя Pandas.</p>"
   ]
  },
  {
   "cell_type": "code",
   "execution_count": null,
   "id": "decf4594-f4c0-49e4-a0f4-a4fcd3d277b9",
   "metadata": {},
   "outputs": [],
   "source": [
    "# Конвертируем данные\n",
    "df['city-L/100km'] = 235/df[\"city-mpg\"]\n",
    "\n",
    "# Проверяем трансформированные данные\n",
    "df.head()"
   ]
  },
  {
   "cell_type": "markdown",
   "id": "f39424a1-8514-4493-86d0-51b1f92dcddd",
   "metadata": {},
   "source": [
    "<div class=\"alert alert-danger alertdanger\" style=\"margin-top: 20px\">\n",
    "<h1> Задание #7: </h1>\n",
    "<b> Следуя примеру, преобразуйте колонку \"highway-mpg\" и переименуйте ее в \"hiwghway-L/100km\"</b>\n",
    "</div>"
   ]
  },
  {
   "cell_type": "code",
   "execution_count": null,
   "id": "26d75c23-9e50-420a-b6ff-020f0e6d4c0f",
   "metadata": {},
   "outputs": [],
   "source": [
    "# Напишите ваш код ниже и наждмите Shift+Enter для исполнения\n"
   ]
  },
  {
   "cell_type": "markdown",
   "id": "dcabe2d2-420a-46c2-8021-2af4f539f457",
   "metadata": {},
   "source": [
    "<details><summary>Нажмите здесь, чтобы увидеть решение</summary>\n",
    "\n",
    "```python\n",
    "# transform mpg to L/100km by mathematical operation (235 divided by mpg)\n",
    "df[\"highway-mpg\"] = 235/df[\"highway-mpg\"]\n",
    "\n",
    "# rename column name from \"highway-mpg\" to \"highway-L/100km\"\n",
    "df.rename(columns={'\"highway-mpg\"':'highway-L/100km'}, inplace=True)\n",
    "\n",
    "# check your transformed data \n",
    "df.head()"
   ]
  },
  {
   "cell_type": "markdown",
   "id": "f44d7b0f-b9c6-46a9-ac7b-12b80f11be61",
   "metadata": {},
   "source": [
    "\n",
    "## Биннинг\n",
    "<b>Зачем нужен биннинг?</b>\n",
    "\n",
    "<p> Биннинг — это процесс преобразования непрерывных числовых переменных в дискретные категориальные \"корзины\" (bins) для группового анализа. </p>\n",
    "<b>Пример: </b>\n",
    "\n",
    "<p>В вашем наборе данных переменная \"horsepower\" является числовой величиной, которая варьируется от 48 до 288 и имеет 59 уникальных значений. Что, если вас интересует только разница в цене между автомобилями с высокой, средней и низкой мощностью (3 типа)? Вы можете сгруппировать их в три \"корзины\" для упрощения анализа.</p> <p>Используйте метод Pandas 'cut', чтобы разделить столбец 'horsepower' на 3 корзины.</p>"
   ]
  },
  {
   "cell_type": "code",
   "execution_count": null,
   "id": "a0c7aaa5-44c5-4df0-b8c2-75ebf4447aa5",
   "metadata": {},
   "outputs": [],
   "source": [
    "df[\"horsepower\"]=df[\"horsepower\"].astype(int, copy=True)"
   ]
  },
  {
   "cell_type": "markdown",
   "id": "d0f5887c-6b73-4769-8a40-4d0ba89e860a",
   "metadata": {},
   "source": [
    "Построим гистограмму, чтобы увидеть, как распределяется мощность"
   ]
  },
  {
   "cell_type": "code",
   "execution_count": null,
   "id": "796a0803-608d-43ad-9c37-86130d696e5f",
   "metadata": {},
   "outputs": [],
   "source": [
    "%matplotlib inline\n",
    "import matplotlib as plt\n",
    "from matplotlib import pyplot\n",
    "plt.pyplot.hist(df[\"horsepower\"])\n",
    "\n",
    "# set x/y labels and plot title\n",
    "plt.pyplot.xlabel(\"horsepower\")\n",
    "plt.pyplot.ylabel(\"count\")\n",
    "plt.pyplot.title(\"horsepower bins\")"
   ]
  },
  {
   "cell_type": "markdown",
   "id": "da1ab94f-1f06-495d-aa60-2a7a6a823d99",
   "metadata": {},
   "source": [
    "<p>Найдите 3 корзины с одинаковой шириной диапазона, используя функцию Numpy <code>linspace(start_value, end_value, numbers_generated</code>.</p> <p>Поскольку вы хотите включить минимальное значение мощности (horsepower), установите start_value = min(df[\"horsepower\"]).</p> <p>Поскольку вы хотите включить максимальное значение мощности, установите end_value = max(df[\"horsepower\"]).</p> <p>Поскольку вы создаете 3 корзины одинаковой длины, вам нужно 4 разделителя, поэтому numbers_generated = 4.</p>"
   ]
  },
  {
   "cell_type": "markdown",
   "id": "de109951-82ca-459e-bf9a-e46d82460f59",
   "metadata": {},
   "source": [
    "\n",
    "Постройте массив корзин от минимального до максимального значения, используя ширину диапазона, рассчитанную выше. Эти значения будут определять, где заканчивается одна корзина и начинается другая."
   ]
  },
  {
   "cell_type": "code",
   "execution_count": null,
   "id": "40972a26-b41d-4f30-a202-4a25bb5b3b4f",
   "metadata": {},
   "outputs": [],
   "source": [
    "bins = np.linspace(min(df[\"horsepower\"]), max(df[\"horsepower\"]), 4)\n",
    "bins"
   ]
  },
  {
   "cell_type": "code",
   "execution_count": null,
   "id": "413e1e42-acce-43db-9a45-2cebab59de5a",
   "metadata": {},
   "outputs": [],
   "source": [
    "group_names = ['Low', 'Medium', 'High']"
   ]
  },
  {
   "cell_type": "markdown",
   "id": "3cc43de4-3cbb-4919-8b49-9e09abe939a1",
   "metadata": {},
   "source": [
    "Примените функцию \"cut\", чтобы определить, к какой корзине относится каждое значение из df['horsepower']."
   ]
  },
  {
   "cell_type": "code",
   "execution_count": null,
   "id": "c77310b8-f13d-47b5-b0c3-28c8b631c814",
   "metadata": {},
   "outputs": [],
   "source": [
    "df['horsepower-binned'] = pd.cut(df['horsepower'], bins, labels=group_names, include_lowest=True )\n",
    "df[['horsepower','horsepower-binned']].head(20)"
   ]
  },
  {
   "cell_type": "code",
   "execution_count": null,
   "id": "e3f1b316-287d-4d21-aa92-94061852dc24",
   "metadata": {},
   "outputs": [],
   "source": [
    "df[\"horsepower-binned\"].value_counts()"
   ]
  },
  {
   "cell_type": "code",
   "execution_count": null,
   "id": "50a3c148-bbab-4870-9e3c-6bef1f8fa834",
   "metadata": {},
   "outputs": [],
   "source": [
    "%matplotlib inline\n",
    "import matplotlib as plt\n",
    "from matplotlib import pyplot\n",
    "pyplot.bar(group_names, df[\"horsepower-binned\"].value_counts())\n",
    "\n",
    "# set x/y labels and plot title\n",
    "plt.pyplot.xlabel(\"horsepower\")\n",
    "plt.pyplot.ylabel(\"count\")\n",
    "plt.pyplot.title(\"horsepower bins\")"
   ]
  },
  {
   "cell_type": "markdown",
   "id": "10e222d6-eb39-42c0-a465-201866b5cdf4",
   "metadata": {},
   "source": [
    "<p> Внимательно посмотрите на приведенный выше DataFrame. Вы увидите, что последний столбец содержит корзины для \"horsepower\" на основе 3 категорий (\"Низкий\", \"Средний\" и \"Высокий\"). </p> <p> Вы успешно сократили количество интервалов с 59 до 3! </p>"
   ]
  },
  {
   "cell_type": "markdown",
   "id": "05359830-33d5-424f-a42c-1a618a71bbb1",
   "metadata": {},
   "source": [
    "## Нормализация \n",
    "Нормализация данных — это процесс приведения данных к общему масштабу, что помогает улучшить работу машинных моделей и алгоритмов анализа данных. Этот процесс особенно важен для числовых переменных с различными диапазонами значений и для категориальных переменных, которые нужно перекодировать в числовые значения для анализа. Рассмотрим основные методы нормализации для числовых и категориальных переменных."
   ]
  },
  {
   "cell_type": "markdown",
   "id": "8719f330-ca5f-41a2-9668-7039c066d0e1",
   "metadata": {},
   "source": [
    "### Нормализация для числовых переменных\n",
    "Числовые переменные могут иметь разные диапазоны значений, что может повлиять на работу машинных алгоритмов (например, линейных моделей или градиентного спуска). Нормализация помогает привести эти данные к одному масштабу. Вот несколько методов нормализации для числовых переменных:"
   ]
  },
  {
   "cell_type": "markdown",
   "id": "4cbbf8e6-d319-40bb-a671-a2ec237d47c9",
   "metadata": {},
   "source": [
    "#### 1. Min-Max Scaling\n",
    "Этот метод приводит все значения переменной к диапазону [0, 1] или другому заданному диапазону.\n",
    "- Когда использовать: <br>Этот метод полезен, когда данные ограничены известным минимальным и максимальным значением. Хорошо работает для алгоритмов, чувствительных к масштабам данных, таких как метод k-ближайших соседей (KNN) и нейронные сети."
   ]
  },
  {
   "cell_type": "code",
   "execution_count": null,
   "id": "6f1c39b8-d729-427f-86b9-f2cc705f32b9",
   "metadata": {},
   "outputs": [],
   "source": [
    "from sklearn.preprocessing import MinMaxScaler\n",
    "\n",
    "scaler = MinMaxScaler()\n",
    "df['normalized_column'] = scaler.fit_transform(df[['column']])"
   ]
  },
  {
   "cell_type": "markdown",
   "id": "5582b4e8-67c6-463c-bf6a-1f1093e044e7",
   "metadata": {},
   "source": [
    "#### 2. Z-нормализация (стандартизация)\n",
    "Этот метод приводит значения переменной к распределению с нулевым средним и стандартным отклонением 1. \n",
    "- Когда использовать: <br>Этот метод полезен, когда данные имеют нормальное распределение. Хорошо работает для алгоритмов, которые предполагают нормальность данных, таких как линейная регрессия, логистическая регрессия и SVM."
   ]
  },
  {
   "cell_type": "code",
   "execution_count": null,
   "id": "58e7bde9-d975-4d5e-afc0-25d197647e9a",
   "metadata": {},
   "outputs": [],
   "source": [
    "from sklearn.preprocessing import StandardScaler\n",
    "\n",
    "scaler = StandardScaler()\n",
    "df['standardized_column'] = scaler.fit_transform(df[['column']])"
   ]
  },
  {
   "cell_type": "markdown",
   "id": "9649e4e3-8b84-4285-91ce-a092c037b187",
   "metadata": {},
   "source": [
    "#### 3. Robust Scaler\n",
    "Этот метод использует медиану и межквартильный диапазон (IQR), чтобы минимизировать влияние выбросов.\n",
    "- Когда использовать: <br>Этот метод полезен, когда данные содержат выбросы."
   ]
  },
  {
   "cell_type": "code",
   "execution_count": null,
   "id": "1740f858-3fd0-40ed-90fd-e4e13f0d1d9e",
   "metadata": {},
   "outputs": [],
   "source": [
    "from sklearn.preprocessing import RobustScaler\n",
    "\n",
    "scaler = RobustScaler()\n",
    "df['robust_column'] = scaler.fit_transform(df[['column']])"
   ]
  },
  {
   "cell_type": "markdown",
   "id": "83a79e18-4b4a-4b99-b182-358d9ec72015",
   "metadata": {},
   "source": [
    "#### 4. Log Transform\n",
    "Этот метод применяется к сильно скошенным данным, чтобы уменьшить влияние выбросов и привести распределение к более симметричному.\n",
    "- Когда использовать: <br>Когда данные имеют асимметричное распределение или присутствуют большие выбросы."
   ]
  },
  {
   "cell_type": "code",
   "execution_count": null,
   "id": "6b312d56-d219-4ddb-8c41-951e11b63993",
   "metadata": {},
   "outputs": [],
   "source": [
    "import numpy as np\n",
    "\n",
    "df['log_column'] = np.log(df['column'] + 1)"
   ]
  },
  {
   "cell_type": "markdown",
   "id": "bcda94d4-971f-4a55-a880-6854859229a2",
   "metadata": {},
   "source": [
    "### Нормализация для категориальных переменных\n",
    "One-Hot Encoding — это метод преобразования категориальных переменных в бинарные столбцы, где каждому уникальному значению категории соответствует отдельный столбец с бинарными значениями (0 или 1). Это помогает машинам и моделям работать с категориальными данными, поскольку алгоритмы машинного обучения обычно требуют числовые данные в качестве входных."
   ]
  },
  {
   "cell_type": "markdown",
   "id": "f00e6cf3-c106-4ba6-bd2a-0d1bc7913fc7",
   "metadata": {},
   "source": [
    "<b>Как работает One-Hot Encoding?</b>\n",
    "<p>Допустим, у вас есть столбец `цвет` с тремя категориями: \"красный\", \"синий\" и \"зеленый\". One-Hot Encoding преобразует этот столбец в три новых столбца:</p> <ul> <li>цвет_красный</li> <li>цвет_синий</li> <li>цвет_зеленый</li> </ul> <p>Каждая строка будет иметь значение 1 для соответствующего цвета и 0 для остальных:</p>"
   ]
  },
  {
   "cell_type": "markdown",
   "id": "0be86fa8-e8fb-4bed-9962-7625d3e8402c",
   "metadata": {},
   "source": [
    "| цвет    | цвет_красный | цвет_синий | цвет_зеленый |\n",
    "|---------|--------------|------------|-------------|\n",
    "| красный | 1            | 0          | 0           |\n",
    "| синий   | 0            | 1          | 0           |\n",
    "| зеленый | 0            | 0          | 1           |\n",
    "| красный | 1            | 0          | 0           |"
   ]
  },
  {
   "cell_type": "markdown",
   "id": "6208ad19-707f-416b-b7e8-a2e17802e2c8",
   "metadata": {},
   "source": [
    "<b>Когда использовать One-Hot Encoding?</b>\n",
    "<ul> <li><b>Для номинальных категориальных данных:</b> One-Hot Encoding полезен, когда переменная не имеет естественного порядка. Например, цвет не имеет упорядоченного смысла.</li> <li><b>При небольшом количестве категорий:</b> Если у вас слишком много уникальных значений, One-Hot Encoding может создать множество столбцов, что усложнит анализ.</li> </ul>\n",
    "<b>Как выполнить One-Hot Encoding в Pandas?</b>\n",
    "<p>В Pandas есть встроенная функция <code>get_dummies()</code>, которая делает One-Hot Encoding для категориальных переменных.</p>\n",
    "<b>Пример:</b>"
   ]
  },
  {
   "cell_type": "code",
   "execution_count": null,
   "id": "b88955b7-0219-4380-91b3-2e58b1355379",
   "metadata": {},
   "outputs": [],
   "source": [
    "import pandas as pd\n",
    "\n",
    "# Примерные данные\n",
    "data = {'цвет': ['красный', 'синий', 'зеленый', 'красный']}\n",
    "df = pd.DataFrame(data)\n",
    "\n",
    "# Применение One-Hot Encoding с использованием get_dummies\n",
    "df_encoded = pd.get_dummies(df, columns=['цвет'])\n",
    "\n",
    "print(df_encoded)\n"
   ]
  },
  {
   "cell_type": "markdown",
   "id": "070cde28-0a88-4fbf-b38b-61d061d3d281",
   "metadata": {},
   "source": [
    "<b>One-Hot Encoding с использованием <code>OneHotEncoder</code> из библиотеки <code>sklearn</code></b>\n",
    "<p>Кроме того, One-Hot Encoding можно выполнить с помощью библиотеки Scikit-learn. Это полезно, если вы работаете с данными в рамках пайплайнов машинного обучения.</p>\n",
    "<b>Пример:</b>"
   ]
  },
  {
   "cell_type": "code",
   "execution_count": null,
   "id": "fc9c0580-2450-4428-9055-5222115f2f57",
   "metadata": {},
   "outputs": [],
   "source": [
    "from sklearn.preprocessing import OneHotEncoder\n",
    "import pandas as pd\n",
    "\n",
    "# Примерные данные\n",
    "data = {'цвет': ['красный', 'синий', 'зеленый', 'красный']}\n",
    "df = pd.DataFrame(data)\n",
    "\n",
    "# Создание объекта OneHotEncoder\n",
    "encoder = OneHotEncoder(sparse_output=False)\n",
    "\n",
    "# Применение One-Hot Encoding\n",
    "encoded = encoder.fit_transform(df[['цвет']])\n",
    "\n",
    "# Преобразование в DataFrame для наглядности\n",
    "df_encoded = pd.DataFrame(encoded, columns=encoder.get_feature_names_out(['цвет']))\n",
    "\n",
    "print(df_encoded)\n"
   ]
  },
  {
   "cell_type": "markdown",
   "id": "46a1cbe1-b6cd-4852-b2d7-9e01fc5d4bb0",
   "metadata": {},
   "source": [
    "<b>Параметры <code>OneHotEncoder</code>:</b>\n",
    "<ul> <li><b><code>sparse_output=False</code></b> — возвращает результат в виде обычного массива (не разреженной матрицы), что удобно для небольших наборов данных.</li> <li><b><code>handle_unknown</code></b> — можно использовать этот параметр, чтобы указать, как обрабатывать неизвестные категории (например, можно игнорировать их или возвращать ошибки).</li> </ul>"
   ]
  }
 ],
 "metadata": {
  "kernelspec": {
   "display_name": "Python 3 (ipykernel)",
   "language": "python",
   "name": "python3"
  },
  "language_info": {
   "codemirror_mode": {
    "name": "ipython",
    "version": 3
   },
   "file_extension": ".py",
   "mimetype": "text/x-python",
   "name": "python",
   "nbconvert_exporter": "python",
   "pygments_lexer": "ipython3",
   "version": "3.11.7"
  }
 },
 "nbformat": 4,
 "nbformat_minor": 5
}
